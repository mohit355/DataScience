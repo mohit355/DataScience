{
 "cells": [
  {
   "cell_type": "code",
   "execution_count": 133,
   "metadata": {},
   "outputs": [],
   "source": [
    "import numpy as np\n",
    "import pandas as pd\n",
    "import matplotlib.pyplot as plt\n",
    "import seaborn as sns\n",
    "from sklearn.metrics import mean_squared_error\n",
    "from sklearn.preprocessing import PolynomialFeatures\n",
    "import math"
   ]
  },
  {
   "cell_type": "code",
   "execution_count": 2,
   "metadata": {},
   "outputs": [],
   "source": [
    "dtype_dict = {'bathrooms':float, 'waterfront':int, 'sqft_above':int, 'sqft_living15':float, 'grade':int, 'yr_renovated':int, 'price':float, 'bedrooms':float, 'zipcode':str, 'long':float, 'sqft_lot15':float, 'sqft_living':float, 'floors':float, 'condition':int, 'lat':float, 'date':str, 'sqft_basement':int, 'yr_built':int, 'id':str, 'sqft_lot':int, 'view':int}"
   ]
  },
  {
   "cell_type": "code",
   "execution_count": 3,
   "metadata": {},
   "outputs": [],
   "source": [
    "sns.set_style(\"whitegrid\")"
   ]
  },
  {
   "cell_type": "code",
   "execution_count": 9,
   "metadata": {},
   "outputs": [],
   "source": [
    "sales = pd.read_csv(r'C:/Users/Shivam/Desktop/ml_prg/kc_house_data.csv', dtype=dtype_dict)"
   ]
  },
  {
   "cell_type": "code",
   "execution_count": 639,
   "metadata": {},
   "outputs": [],
   "source": [
    "sales = pd.read_csv(r\"C:/Users/Shivam/Desktop/polydata.csv\")"
   ]
  },
  {
   "cell_type": "code",
   "execution_count": 1360,
   "metadata": {},
   "outputs": [],
   "source": [
    "class Ridge_model:\n",
    "    def __init__(self,data,target):\n",
    "        self.data = data\n",
    "        self.target = target\n",
    "        \n",
    "    def add_intercept(self):\n",
    "        self.data.insert(0,'X0',1)\n",
    "        return self.data\n",
    "    \n",
    "    def polynomial_features(self,deg):\n",
    "        polynom = PolynomialFeatures(deg)\n",
    "        self.data = pd.DataFrame(polynom.fit_transform(self.data))\n",
    "        \n",
    "        self.data.iloc[:, 1:] = (self.data.iloc[:, 1:] - np.mean(self.data.iloc[:, 1:], axis=0)) / np.std(self.data.iloc[:, 1:], axis=0)\n",
    "        return self.data\n",
    "    \n",
    "    def predict(self,updated_theta):\n",
    "        return(self.data@updated_theta)   \n",
    "    \n",
    "    def cost_func(self,theta_values,l2_penalty):\n",
    "        m = self.data.shape[0]\n",
    "        err = self.target - self.predict(theta_values)\n",
    "        squared_error = np.dot(err,err)\n",
    "        #squared_error = sum(list(map(lambda x: x**2,err)))\n",
    "        #squared_theta = sum(list(map(lambda x: x**2,theta[1:])))\n",
    "        squared_theta = np.dot(theta_values[1:],theta_values[1:])\n",
    "        total_error = (1/m)*(1/2)*(squared_error) + (1/2) * l2_penalty * (squared_theta)\n",
    "        return total_error\n",
    "        \n",
    "    def fit(self,lr,theta,l2_penalty,n_iters):\n",
    "        m = self.data.shape[0]\n",
    "        theta_values = theta.copy()\n",
    "        parameter_values = []\n",
    "        loss_list = []\n",
    "        cost = self.cost_func(theta_values,l2_penalty)\n",
    "        for i in range(n_iters):\n",
    "            #print(theta_values)\n",
    "            parameter_values.append(theta_values)\n",
    "            loss_list.append(cost)\n",
    "            \n",
    "            #update = np.subtract((self.data @ theta_values) , self.target)\n",
    "            update = ((self.data @ theta_values) - self.target)\n",
    "        \n",
    "            theta_values[0] = theta_values[0] - lr * (1/m) * (self.data.iloc[:,0].T @ update)\n",
    "            \n",
    "            theta_values[1:] = (theta_values[1:] - (lr*l2_penalty*theta_values[1:])) - lr * (1/m) * (self.data.iloc[:,1:].T @ update)\n",
    "            #theta_values = theta_values -  lr * (1/m) * (self.data.T @ update)\n",
    "            \n",
    "            #theta_values = [theta_0,*theta_rest]\n",
    "            theta_values = np.array(theta_values)\n",
    "            \n",
    "            cost = self.cost_func(theta_values,l2_penalty)\n",
    "\n",
    "        parameter_values.append(theta_values)\n",
    "        #loss_list.append(cost)\n",
    "        return theta_values,loss_list,parameter_values\n",
    "    \n",
    "    "
   ]
  },
  {
   "cell_type": "code",
   "execution_count": 1361,
   "metadata": {},
   "outputs": [],
   "source": [
    "sales = pd.read_csv(r\"C:/Users/Shivam/Desktop/poly_data.csv\")"
   ]
  },
  {
   "cell_type": "code",
   "execution_count": 1362,
   "metadata": {},
   "outputs": [
    {
     "data": {
      "text/html": [
       "<div>\n",
       "<style scoped>\n",
       "    .dataframe tbody tr th:only-of-type {\n",
       "        vertical-align: middle;\n",
       "    }\n",
       "\n",
       "    .dataframe tbody tr th {\n",
       "        vertical-align: top;\n",
       "    }\n",
       "\n",
       "    .dataframe thead th {\n",
       "        text-align: right;\n",
       "    }\n",
       "</style>\n",
       "<table border=\"1\" class=\"dataframe\">\n",
       "  <thead>\n",
       "    <tr style=\"text-align: right;\">\n",
       "      <th></th>\n",
       "      <th>Unnamed: 0</th>\n",
       "      <th>Y</th>\n",
       "      <th>X0</th>\n",
       "      <th>X1</th>\n",
       "      <th>X2</th>\n",
       "      <th>X3</th>\n",
       "      <th>X4</th>\n",
       "      <th>X5</th>\n",
       "      <th>X6</th>\n",
       "      <th>X7</th>\n",
       "      <th>...</th>\n",
       "      <th>X31</th>\n",
       "      <th>X32</th>\n",
       "      <th>X33</th>\n",
       "      <th>X34</th>\n",
       "      <th>X35</th>\n",
       "      <th>X36</th>\n",
       "      <th>X37</th>\n",
       "      <th>X38</th>\n",
       "      <th>X39</th>\n",
       "      <th>X40</th>\n",
       "    </tr>\n",
       "  </thead>\n",
       "  <tbody>\n",
       "    <tr>\n",
       "      <th>0</th>\n",
       "      <td>0</td>\n",
       "      <td>5005.001390</td>\n",
       "      <td>1</td>\n",
       "      <td>-1.647509</td>\n",
       "      <td>-1.143075</td>\n",
       "      <td>-0.902736</td>\n",
       "      <td>-0.766620</td>\n",
       "      <td>-0.677733</td>\n",
       "      <td>-0.614161</td>\n",
       "      <td>-0.565919</td>\n",
       "      <td>...</td>\n",
       "      <td>0.122556</td>\n",
       "      <td>-0.311944</td>\n",
       "      <td>-0.109579</td>\n",
       "      <td>-0.388805</td>\n",
       "      <td>0.188887</td>\n",
       "      <td>0.079842</td>\n",
       "      <td>0.188967</td>\n",
       "      <td>-0.180929</td>\n",
       "      <td>-0.229002</td>\n",
       "      <td>0.110565</td>\n",
       "    </tr>\n",
       "    <tr>\n",
       "      <th>1</th>\n",
       "      <td>1</td>\n",
       "      <td>5005.037992</td>\n",
       "      <td>1</td>\n",
       "      <td>-1.474087</td>\n",
       "      <td>-1.119010</td>\n",
       "      <td>-0.899868</td>\n",
       "      <td>-0.766302</td>\n",
       "      <td>-0.677699</td>\n",
       "      <td>-0.614157</td>\n",
       "      <td>-0.565919</td>\n",
       "      <td>...</td>\n",
       "      <td>0.122556</td>\n",
       "      <td>-0.311944</td>\n",
       "      <td>-0.109579</td>\n",
       "      <td>-0.388805</td>\n",
       "      <td>0.188887</td>\n",
       "      <td>0.079842</td>\n",
       "      <td>0.188967</td>\n",
       "      <td>-0.180929</td>\n",
       "      <td>-0.229002</td>\n",
       "      <td>0.110566</td>\n",
       "    </tr>\n",
       "    <tr>\n",
       "      <th>2</th>\n",
       "      <td>2</td>\n",
       "      <td>5005.220731</td>\n",
       "      <td>1</td>\n",
       "      <td>-1.300665</td>\n",
       "      <td>-1.078902</td>\n",
       "      <td>-0.892086</td>\n",
       "      <td>-0.764923</td>\n",
       "      <td>-0.677467</td>\n",
       "      <td>-0.614120</td>\n",
       "      <td>-0.565913</td>\n",
       "      <td>...</td>\n",
       "      <td>0.122693</td>\n",
       "      <td>-0.311561</td>\n",
       "      <td>-0.108034</td>\n",
       "      <td>-0.384715</td>\n",
       "      <td>0.204802</td>\n",
       "      <td>0.117859</td>\n",
       "      <td>0.305906</td>\n",
       "      <td>0.153578</td>\n",
       "      <td>0.769603</td>\n",
       "      <td>-1.267898</td>\n",
       "    </tr>\n",
       "    <tr>\n",
       "      <th>3</th>\n",
       "      <td>3</td>\n",
       "      <td>5005.632830</td>\n",
       "      <td>1</td>\n",
       "      <td>-1.127243</td>\n",
       "      <td>-1.022751</td>\n",
       "      <td>-0.876931</td>\n",
       "      <td>-0.761210</td>\n",
       "      <td>-0.676609</td>\n",
       "      <td>-0.613929</td>\n",
       "      <td>-0.565871</td>\n",
       "      <td>...</td>\n",
       "      <td>1.148553</td>\n",
       "      <td>-0.311944</td>\n",
       "      <td>-0.109579</td>\n",
       "      <td>-0.388805</td>\n",
       "      <td>0.188887</td>\n",
       "      <td>0.079842</td>\n",
       "      <td>0.188967</td>\n",
       "      <td>-0.180929</td>\n",
       "      <td>-0.229002</td>\n",
       "      <td>0.110565</td>\n",
       "    </tr>\n",
       "    <tr>\n",
       "      <th>4</th>\n",
       "      <td>4</td>\n",
       "      <td>5006.154482</td>\n",
       "      <td>1</td>\n",
       "      <td>-0.953821</td>\n",
       "      <td>-0.950557</td>\n",
       "      <td>-0.851946</td>\n",
       "      <td>-0.753381</td>\n",
       "      <td>-0.674300</td>\n",
       "      <td>-0.613274</td>\n",
       "      <td>-0.565691</td>\n",
       "      <td>...</td>\n",
       "      <td>1.909801</td>\n",
       "      <td>0.365916</td>\n",
       "      <td>-0.687882</td>\n",
       "      <td>1.584816</td>\n",
       "      <td>1.251250</td>\n",
       "      <td>-0.362997</td>\n",
       "      <td>-2.081299</td>\n",
       "      <td>-1.868657</td>\n",
       "      <td>0.464766</td>\n",
       "      <td>-0.847144</td>\n",
       "    </tr>\n",
       "  </tbody>\n",
       "</table>\n",
       "<p>5 rows × 43 columns</p>\n",
       "</div>"
      ],
      "text/plain": [
       "   Unnamed: 0            Y  X0        X1        X2        X3        X4  \\\n",
       "0           0  5005.001390   1 -1.647509 -1.143075 -0.902736 -0.766620   \n",
       "1           1  5005.037992   1 -1.474087 -1.119010 -0.899868 -0.766302   \n",
       "2           2  5005.220731   1 -1.300665 -1.078902 -0.892086 -0.764923   \n",
       "3           3  5005.632830   1 -1.127243 -1.022751 -0.876931 -0.761210   \n",
       "4           4  5006.154482   1 -0.953821 -0.950557 -0.851946 -0.753381   \n",
       "\n",
       "         X5        X6        X7  ...       X31       X32       X33       X34  \\\n",
       "0 -0.677733 -0.614161 -0.565919  ...  0.122556 -0.311944 -0.109579 -0.388805   \n",
       "1 -0.677699 -0.614157 -0.565919  ...  0.122556 -0.311944 -0.109579 -0.388805   \n",
       "2 -0.677467 -0.614120 -0.565913  ...  0.122693 -0.311561 -0.108034 -0.384715   \n",
       "3 -0.676609 -0.613929 -0.565871  ...  1.148553 -0.311944 -0.109579 -0.388805   \n",
       "4 -0.674300 -0.613274 -0.565691  ...  1.909801  0.365916 -0.687882  1.584816   \n",
       "\n",
       "        X35       X36       X37       X38       X39       X40  \n",
       "0  0.188887  0.079842  0.188967 -0.180929 -0.229002  0.110565  \n",
       "1  0.188887  0.079842  0.188967 -0.180929 -0.229002  0.110566  \n",
       "2  0.204802  0.117859  0.305906  0.153578  0.769603 -1.267898  \n",
       "3  0.188887  0.079842  0.188967 -0.180929 -0.229002  0.110565  \n",
       "4  1.251250 -0.362997 -2.081299 -1.868657  0.464766 -0.847144  \n",
       "\n",
       "[5 rows x 43 columns]"
      ]
     },
     "execution_count": 1362,
     "metadata": {},
     "output_type": "execute_result"
    }
   ],
   "source": [
    "sales.head()"
   ]
  },
  {
   "cell_type": "code",
   "execution_count": 1363,
   "metadata": {
    "scrolled": true
   },
   "outputs": [],
   "source": [
    "target = sales['Y']\n",
    "data = sales.drop(['Y','Unnamed: 0'],axis=1)"
   ]
  },
  {
   "cell_type": "markdown",
   "metadata": {},
   "source": [
    "sales.drop('Unnamed: 0',axis=1,inplace=True)\n",
    "sales.drop('X0',axis=1,inplace=True)"
   ]
  },
  {
   "cell_type": "markdown",
   "metadata": {},
   "source": [
    "target = sales['Y']\n",
    "sales.drop('Y',axis=1,inplace=True)"
   ]
  },
  {
   "cell_type": "markdown",
   "metadata": {},
   "source": [
    "data = sales.copy()"
   ]
  },
  {
   "cell_type": "markdown",
   "metadata": {},
   "source": [
    "data = sales[['sqft_living']]\n",
    "target = sales['price']"
   ]
  },
  {
   "cell_type": "code",
   "execution_count": 1364,
   "metadata": {},
   "outputs": [],
   "source": [
    "#\n",
    "model1 = Ridge_model(data,target)"
   ]
  },
  {
   "cell_type": "markdown",
   "metadata": {},
   "source": [
    "model = Ridge_model(data,target)"
   ]
  },
  {
   "cell_type": "code",
   "execution_count": 1365,
   "metadata": {},
   "outputs": [],
   "source": [
    "degree = 40"
   ]
  },
  {
   "cell_type": "markdown",
   "metadata": {},
   "source": [
    "#\n",
    "polynomial_data = model1.polynomial_features(degree)\n",
    "polynomial_data.head()"
   ]
  },
  {
   "cell_type": "markdown",
   "metadata": {},
   "source": [
    "polynomial_data = model.polynomial_features(degree)"
   ]
  },
  {
   "cell_type": "code",
   "execution_count": 1366,
   "metadata": {},
   "outputs": [
    {
     "data": {
      "text/html": [
       "<div>\n",
       "<style scoped>\n",
       "    .dataframe tbody tr th:only-of-type {\n",
       "        vertical-align: middle;\n",
       "    }\n",
       "\n",
       "    .dataframe tbody tr th {\n",
       "        vertical-align: top;\n",
       "    }\n",
       "\n",
       "    .dataframe thead th {\n",
       "        text-align: right;\n",
       "    }\n",
       "</style>\n",
       "<table border=\"1\" class=\"dataframe\">\n",
       "  <thead>\n",
       "    <tr style=\"text-align: right;\">\n",
       "      <th></th>\n",
       "      <th>0</th>\n",
       "      <th>1</th>\n",
       "      <th>2</th>\n",
       "      <th>3</th>\n",
       "      <th>4</th>\n",
       "      <th>5</th>\n",
       "      <th>6</th>\n",
       "      <th>7</th>\n",
       "      <th>8</th>\n",
       "      <th>9</th>\n",
       "      <th>...</th>\n",
       "      <th>31</th>\n",
       "      <th>32</th>\n",
       "      <th>33</th>\n",
       "      <th>34</th>\n",
       "      <th>35</th>\n",
       "      <th>36</th>\n",
       "      <th>37</th>\n",
       "      <th>38</th>\n",
       "      <th>39</th>\n",
       "      <th>40</th>\n",
       "    </tr>\n",
       "  </thead>\n",
       "  <tbody>\n",
       "    <tr>\n",
       "      <th>0</th>\n",
       "      <td>1.0</td>\n",
       "      <td>-1.647509</td>\n",
       "      <td>-1.143075</td>\n",
       "      <td>-0.902736</td>\n",
       "      <td>-0.766620</td>\n",
       "      <td>-0.677733</td>\n",
       "      <td>-0.614161</td>\n",
       "      <td>-0.565919</td>\n",
       "      <td>-0.527776</td>\n",
       "      <td>-0.496698</td>\n",
       "      <td>...</td>\n",
       "      <td>-0.284462</td>\n",
       "      <td>-0.281355</td>\n",
       "      <td>-0.278446</td>\n",
       "      <td>-0.275719</td>\n",
       "      <td>-0.273161</td>\n",
       "      <td>-0.270759</td>\n",
       "      <td>-0.268502</td>\n",
       "      <td>-0.26638</td>\n",
       "      <td>-0.264383</td>\n",
       "      <td>-0.262502</td>\n",
       "    </tr>\n",
       "    <tr>\n",
       "      <th>1</th>\n",
       "      <td>1.0</td>\n",
       "      <td>-1.474087</td>\n",
       "      <td>-1.119010</td>\n",
       "      <td>-0.899868</td>\n",
       "      <td>-0.766302</td>\n",
       "      <td>-0.677699</td>\n",
       "      <td>-0.614157</td>\n",
       "      <td>-0.565919</td>\n",
       "      <td>-0.527776</td>\n",
       "      <td>-0.496698</td>\n",
       "      <td>...</td>\n",
       "      <td>-0.284462</td>\n",
       "      <td>-0.281355</td>\n",
       "      <td>-0.278446</td>\n",
       "      <td>-0.275719</td>\n",
       "      <td>-0.273161</td>\n",
       "      <td>-0.270759</td>\n",
       "      <td>-0.268502</td>\n",
       "      <td>-0.26638</td>\n",
       "      <td>-0.264383</td>\n",
       "      <td>-0.262502</td>\n",
       "    </tr>\n",
       "    <tr>\n",
       "      <th>2</th>\n",
       "      <td>1.0</td>\n",
       "      <td>-1.300665</td>\n",
       "      <td>-1.078902</td>\n",
       "      <td>-0.892086</td>\n",
       "      <td>-0.764923</td>\n",
       "      <td>-0.677467</td>\n",
       "      <td>-0.614120</td>\n",
       "      <td>-0.565913</td>\n",
       "      <td>-0.527775</td>\n",
       "      <td>-0.496698</td>\n",
       "      <td>...</td>\n",
       "      <td>-0.284462</td>\n",
       "      <td>-0.281355</td>\n",
       "      <td>-0.278446</td>\n",
       "      <td>-0.275719</td>\n",
       "      <td>-0.273161</td>\n",
       "      <td>-0.270759</td>\n",
       "      <td>-0.268502</td>\n",
       "      <td>-0.26638</td>\n",
       "      <td>-0.264383</td>\n",
       "      <td>-0.262502</td>\n",
       "    </tr>\n",
       "    <tr>\n",
       "      <th>3</th>\n",
       "      <td>1.0</td>\n",
       "      <td>-1.127243</td>\n",
       "      <td>-1.022751</td>\n",
       "      <td>-0.876931</td>\n",
       "      <td>-0.761210</td>\n",
       "      <td>-0.676609</td>\n",
       "      <td>-0.613929</td>\n",
       "      <td>-0.565871</td>\n",
       "      <td>-0.527766</td>\n",
       "      <td>-0.496696</td>\n",
       "      <td>...</td>\n",
       "      <td>-0.284462</td>\n",
       "      <td>-0.281355</td>\n",
       "      <td>-0.278446</td>\n",
       "      <td>-0.275719</td>\n",
       "      <td>-0.273161</td>\n",
       "      <td>-0.270759</td>\n",
       "      <td>-0.268502</td>\n",
       "      <td>-0.26638</td>\n",
       "      <td>-0.264383</td>\n",
       "      <td>-0.262502</td>\n",
       "    </tr>\n",
       "    <tr>\n",
       "      <th>4</th>\n",
       "      <td>1.0</td>\n",
       "      <td>-0.953821</td>\n",
       "      <td>-0.950557</td>\n",
       "      <td>-0.851946</td>\n",
       "      <td>-0.753381</td>\n",
       "      <td>-0.674300</td>\n",
       "      <td>-0.613274</td>\n",
       "      <td>-0.565691</td>\n",
       "      <td>-0.527718</td>\n",
       "      <td>-0.496683</td>\n",
       "      <td>...</td>\n",
       "      <td>-0.284462</td>\n",
       "      <td>-0.281355</td>\n",
       "      <td>-0.278446</td>\n",
       "      <td>-0.275719</td>\n",
       "      <td>-0.273161</td>\n",
       "      <td>-0.270759</td>\n",
       "      <td>-0.268502</td>\n",
       "      <td>-0.26638</td>\n",
       "      <td>-0.264383</td>\n",
       "      <td>-0.262502</td>\n",
       "    </tr>\n",
       "  </tbody>\n",
       "</table>\n",
       "<p>5 rows × 41 columns</p>\n",
       "</div>"
      ],
      "text/plain": [
       "    0         1         2         3         4         5         6         7   \\\n",
       "0  1.0 -1.647509 -1.143075 -0.902736 -0.766620 -0.677733 -0.614161 -0.565919   \n",
       "1  1.0 -1.474087 -1.119010 -0.899868 -0.766302 -0.677699 -0.614157 -0.565919   \n",
       "2  1.0 -1.300665 -1.078902 -0.892086 -0.764923 -0.677467 -0.614120 -0.565913   \n",
       "3  1.0 -1.127243 -1.022751 -0.876931 -0.761210 -0.676609 -0.613929 -0.565871   \n",
       "4  1.0 -0.953821 -0.950557 -0.851946 -0.753381 -0.674300 -0.613274 -0.565691   \n",
       "\n",
       "         8         9   ...        31        32        33        34        35  \\\n",
       "0 -0.527776 -0.496698  ... -0.284462 -0.281355 -0.278446 -0.275719 -0.273161   \n",
       "1 -0.527776 -0.496698  ... -0.284462 -0.281355 -0.278446 -0.275719 -0.273161   \n",
       "2 -0.527775 -0.496698  ... -0.284462 -0.281355 -0.278446 -0.275719 -0.273161   \n",
       "3 -0.527766 -0.496696  ... -0.284462 -0.281355 -0.278446 -0.275719 -0.273161   \n",
       "4 -0.527718 -0.496683  ... -0.284462 -0.281355 -0.278446 -0.275719 -0.273161   \n",
       "\n",
       "         36        37       38        39        40  \n",
       "0 -0.270759 -0.268502 -0.26638 -0.264383 -0.262502  \n",
       "1 -0.270759 -0.268502 -0.26638 -0.264383 -0.262502  \n",
       "2 -0.270759 -0.268502 -0.26638 -0.264383 -0.262502  \n",
       "3 -0.270759 -0.268502 -0.26638 -0.264383 -0.262502  \n",
       "4 -0.270759 -0.268502 -0.26638 -0.264383 -0.262502  \n",
       "\n",
       "[5 rows x 41 columns]"
      ]
     },
     "execution_count": 1366,
     "metadata": {},
     "output_type": "execute_result"
    }
   ],
   "source": [
    "polynomial_data.head()"
   ]
  },
  {
   "cell_type": "markdown",
   "metadata": {},
   "source": [
    "polynomial_data.shape"
   ]
  },
  {
   "cell_type": "markdown",
   "metadata": {},
   "source": [
    "theta = np.random.randn(degree+1)\n",
    "theta"
   ]
  },
  {
   "cell_type": "code",
   "execution_count": 1367,
   "metadata": {},
   "outputs": [],
   "source": [
    "theta = np.array([1.51463105, -0.46493311,  0.13470503, -1.14286111,  0.20747718,\n",
    "       -1.56262533,  0.58838208, -0.38139382, -1.02582579,  0.80452326,\n",
    "        0.28971397, -1.34098277,  2.33259496,  0.38706266, -0.44586743,\n",
    "        0.60773821, -0.6180272 ,  0.70783602,  0.04096997, -1.10543104,\n",
    "        0.97385268, -0.53987017,  0.06474371, -1.12138576, -0.17947726,\n",
    "       -1.65925294,  0.38166388, -1.82030454, -2.10370869,  0.04649342,\n",
    "        0.53377165,  0.3409671 , -0.14302171, -0.1984259 , -0.06263382,\n",
    "       -1.29949731,  0.3136537 , -0.06745514, -1.02625928,  0.11131948,\n",
    "       -0.62836057])"
   ]
  },
  {
   "cell_type": "code",
   "execution_count": 1380,
   "metadata": {},
   "outputs": [],
   "source": [
    "l2_penalty = 10.0\n",
    "lr = 0.01\n",
    "n_iters = 5000"
   ]
  },
  {
   "cell_type": "code",
   "execution_count": 1381,
   "metadata": {},
   "outputs": [
    {
     "data": {
      "text/plain": [
       "12517861.658481935"
      ]
     },
     "execution_count": 1381,
     "metadata": {},
     "output_type": "execute_result"
    }
   ],
   "source": [
    "#\n",
    "model1.cost_func(theta,l2_penalty)"
   ]
  },
  {
   "cell_type": "markdown",
   "metadata": {},
   "source": [
    "model.cost_func(theta,l2_penalty)"
   ]
  },
  {
   "cell_type": "code",
   "execution_count": null,
   "metadata": {},
   "outputs": [],
   "source": []
  },
  {
   "cell_type": "code",
   "execution_count": 1305,
   "metadata": {},
   "outputs": [
    {
     "data": {
      "text/plain": [
       "16.627539133599413"
      ]
     },
     "execution_count": 1305,
     "metadata": {},
     "output_type": "execute_result"
    }
   ],
   "source": [
    "1/2*sum(list(map(lambda x: x**2,theta[1:])))"
   ]
  },
  {
   "cell_type": "markdown",
   "metadata": {},
   "source": [
    "polynomial_data.iloc[:, 1:] = (polynomial_data.iloc[:, 1:] - np.mean(polynomial_data.iloc[:, 1:], axis=0)) / np.std(polynomial_data.iloc[:, 1:], axis=0)"
   ]
  },
  {
   "cell_type": "code",
   "execution_count": 1369,
   "metadata": {},
   "outputs": [
    {
     "data": {
      "text/html": [
       "<div>\n",
       "<style scoped>\n",
       "    .dataframe tbody tr th:only-of-type {\n",
       "        vertical-align: middle;\n",
       "    }\n",
       "\n",
       "    .dataframe tbody tr th {\n",
       "        vertical-align: top;\n",
       "    }\n",
       "\n",
       "    .dataframe thead th {\n",
       "        text-align: right;\n",
       "    }\n",
       "</style>\n",
       "<table border=\"1\" class=\"dataframe\">\n",
       "  <thead>\n",
       "    <tr style=\"text-align: right;\">\n",
       "      <th></th>\n",
       "      <th>0</th>\n",
       "      <th>1</th>\n",
       "      <th>2</th>\n",
       "      <th>3</th>\n",
       "      <th>4</th>\n",
       "      <th>5</th>\n",
       "      <th>6</th>\n",
       "      <th>7</th>\n",
       "      <th>8</th>\n",
       "      <th>9</th>\n",
       "      <th>...</th>\n",
       "      <th>31</th>\n",
       "      <th>32</th>\n",
       "      <th>33</th>\n",
       "      <th>34</th>\n",
       "      <th>35</th>\n",
       "      <th>36</th>\n",
       "      <th>37</th>\n",
       "      <th>38</th>\n",
       "      <th>39</th>\n",
       "      <th>40</th>\n",
       "    </tr>\n",
       "  </thead>\n",
       "  <tbody>\n",
       "    <tr>\n",
       "      <th>0</th>\n",
       "      <td>1.0</td>\n",
       "      <td>-1.647509</td>\n",
       "      <td>-1.143075</td>\n",
       "      <td>-0.902736</td>\n",
       "      <td>-0.766620</td>\n",
       "      <td>-0.677733</td>\n",
       "      <td>-0.614161</td>\n",
       "      <td>-0.565919</td>\n",
       "      <td>-0.527776</td>\n",
       "      <td>-0.496698</td>\n",
       "      <td>...</td>\n",
       "      <td>-0.284462</td>\n",
       "      <td>-0.281355</td>\n",
       "      <td>-0.278446</td>\n",
       "      <td>-0.275719</td>\n",
       "      <td>-0.273161</td>\n",
       "      <td>-0.270759</td>\n",
       "      <td>-0.268502</td>\n",
       "      <td>-0.26638</td>\n",
       "      <td>-0.264383</td>\n",
       "      <td>-0.262502</td>\n",
       "    </tr>\n",
       "    <tr>\n",
       "      <th>1</th>\n",
       "      <td>1.0</td>\n",
       "      <td>-1.474087</td>\n",
       "      <td>-1.119010</td>\n",
       "      <td>-0.899868</td>\n",
       "      <td>-0.766302</td>\n",
       "      <td>-0.677699</td>\n",
       "      <td>-0.614157</td>\n",
       "      <td>-0.565919</td>\n",
       "      <td>-0.527776</td>\n",
       "      <td>-0.496698</td>\n",
       "      <td>...</td>\n",
       "      <td>-0.284462</td>\n",
       "      <td>-0.281355</td>\n",
       "      <td>-0.278446</td>\n",
       "      <td>-0.275719</td>\n",
       "      <td>-0.273161</td>\n",
       "      <td>-0.270759</td>\n",
       "      <td>-0.268502</td>\n",
       "      <td>-0.26638</td>\n",
       "      <td>-0.264383</td>\n",
       "      <td>-0.262502</td>\n",
       "    </tr>\n",
       "    <tr>\n",
       "      <th>2</th>\n",
       "      <td>1.0</td>\n",
       "      <td>-1.300665</td>\n",
       "      <td>-1.078902</td>\n",
       "      <td>-0.892086</td>\n",
       "      <td>-0.764923</td>\n",
       "      <td>-0.677467</td>\n",
       "      <td>-0.614120</td>\n",
       "      <td>-0.565913</td>\n",
       "      <td>-0.527775</td>\n",
       "      <td>-0.496698</td>\n",
       "      <td>...</td>\n",
       "      <td>-0.284462</td>\n",
       "      <td>-0.281355</td>\n",
       "      <td>-0.278446</td>\n",
       "      <td>-0.275719</td>\n",
       "      <td>-0.273161</td>\n",
       "      <td>-0.270759</td>\n",
       "      <td>-0.268502</td>\n",
       "      <td>-0.26638</td>\n",
       "      <td>-0.264383</td>\n",
       "      <td>-0.262502</td>\n",
       "    </tr>\n",
       "    <tr>\n",
       "      <th>3</th>\n",
       "      <td>1.0</td>\n",
       "      <td>-1.127243</td>\n",
       "      <td>-1.022751</td>\n",
       "      <td>-0.876931</td>\n",
       "      <td>-0.761210</td>\n",
       "      <td>-0.676609</td>\n",
       "      <td>-0.613929</td>\n",
       "      <td>-0.565871</td>\n",
       "      <td>-0.527766</td>\n",
       "      <td>-0.496696</td>\n",
       "      <td>...</td>\n",
       "      <td>-0.284462</td>\n",
       "      <td>-0.281355</td>\n",
       "      <td>-0.278446</td>\n",
       "      <td>-0.275719</td>\n",
       "      <td>-0.273161</td>\n",
       "      <td>-0.270759</td>\n",
       "      <td>-0.268502</td>\n",
       "      <td>-0.26638</td>\n",
       "      <td>-0.264383</td>\n",
       "      <td>-0.262502</td>\n",
       "    </tr>\n",
       "    <tr>\n",
       "      <th>4</th>\n",
       "      <td>1.0</td>\n",
       "      <td>-0.953821</td>\n",
       "      <td>-0.950557</td>\n",
       "      <td>-0.851946</td>\n",
       "      <td>-0.753381</td>\n",
       "      <td>-0.674300</td>\n",
       "      <td>-0.613274</td>\n",
       "      <td>-0.565691</td>\n",
       "      <td>-0.527718</td>\n",
       "      <td>-0.496683</td>\n",
       "      <td>...</td>\n",
       "      <td>-0.284462</td>\n",
       "      <td>-0.281355</td>\n",
       "      <td>-0.278446</td>\n",
       "      <td>-0.275719</td>\n",
       "      <td>-0.273161</td>\n",
       "      <td>-0.270759</td>\n",
       "      <td>-0.268502</td>\n",
       "      <td>-0.26638</td>\n",
       "      <td>-0.264383</td>\n",
       "      <td>-0.262502</td>\n",
       "    </tr>\n",
       "  </tbody>\n",
       "</table>\n",
       "<p>5 rows × 41 columns</p>\n",
       "</div>"
      ],
      "text/plain": [
       "    0         1         2         3         4         5         6         7   \\\n",
       "0  1.0 -1.647509 -1.143075 -0.902736 -0.766620 -0.677733 -0.614161 -0.565919   \n",
       "1  1.0 -1.474087 -1.119010 -0.899868 -0.766302 -0.677699 -0.614157 -0.565919   \n",
       "2  1.0 -1.300665 -1.078902 -0.892086 -0.764923 -0.677467 -0.614120 -0.565913   \n",
       "3  1.0 -1.127243 -1.022751 -0.876931 -0.761210 -0.676609 -0.613929 -0.565871   \n",
       "4  1.0 -0.953821 -0.950557 -0.851946 -0.753381 -0.674300 -0.613274 -0.565691   \n",
       "\n",
       "         8         9   ...        31        32        33        34        35  \\\n",
       "0 -0.527776 -0.496698  ... -0.284462 -0.281355 -0.278446 -0.275719 -0.273161   \n",
       "1 -0.527776 -0.496698  ... -0.284462 -0.281355 -0.278446 -0.275719 -0.273161   \n",
       "2 -0.527775 -0.496698  ... -0.284462 -0.281355 -0.278446 -0.275719 -0.273161   \n",
       "3 -0.527766 -0.496696  ... -0.284462 -0.281355 -0.278446 -0.275719 -0.273161   \n",
       "4 -0.527718 -0.496683  ... -0.284462 -0.281355 -0.278446 -0.275719 -0.273161   \n",
       "\n",
       "         36        37       38        39        40  \n",
       "0 -0.270759 -0.268502 -0.26638 -0.264383 -0.262502  \n",
       "1 -0.270759 -0.268502 -0.26638 -0.264383 -0.262502  \n",
       "2 -0.270759 -0.268502 -0.26638 -0.264383 -0.262502  \n",
       "3 -0.270759 -0.268502 -0.26638 -0.264383 -0.262502  \n",
       "4 -0.270759 -0.268502 -0.26638 -0.264383 -0.262502  \n",
       "\n",
       "[5 rows x 41 columns]"
      ]
     },
     "execution_count": 1369,
     "metadata": {},
     "output_type": "execute_result"
    }
   ],
   "source": [
    "polynomial_data.head()"
   ]
  },
  {
   "cell_type": "code",
   "execution_count": 1445,
   "metadata": {},
   "outputs": [],
   "source": [
    "l2_penalty = 3.0\n",
    "lr = 0.01\n",
    "n_iters = 5000"
   ]
  },
  {
   "cell_type": "code",
   "execution_count": 1446,
   "metadata": {
    "scrolled": true
   },
   "outputs": [],
   "source": [
    "#\n",
    "optimal_theta,loss_list,parameter_list = model1.fit(lr,theta,l2_penalty,n_iters)"
   ]
  },
  {
   "cell_type": "markdown",
   "metadata": {},
   "source": [
    "optimal_theta,loss_list,parameter_list = model.fit(lr,theta,l2_penalty,n_iters)"
   ]
  },
  {
   "cell_type": "code",
   "execution_count": 1447,
   "metadata": {
    "scrolled": true
   },
   "outputs": [
    {
     "data": {
      "text/plain": [
       "array([ 1.51463105, -0.46493311,  0.13470503, -1.14286111,  0.20747718,\n",
       "       -1.56262533,  0.58838208, -0.38139382, -1.02582579,  0.80452326,\n",
       "        0.28971397, -1.34098277,  2.33259496,  0.38706266, -0.44586743,\n",
       "        0.60773821, -0.6180272 ,  0.70783602,  0.04096997, -1.10543104,\n",
       "        0.97385268, -0.53987017,  0.06474371, -1.12138576, -0.17947726,\n",
       "       -1.65925294,  0.38166388, -1.82030454, -2.10370869,  0.04649342,\n",
       "        0.53377165,  0.3409671 , -0.14302171, -0.1984259 , -0.06263382,\n",
       "       -1.29949731,  0.3136537 , -0.06745514, -1.02625928,  0.11131948,\n",
       "       -0.62836057])"
      ]
     },
     "execution_count": 1447,
     "metadata": {},
     "output_type": "execute_result"
    }
   ],
   "source": [
    "theta"
   ]
  },
  {
   "cell_type": "code",
   "execution_count": 1448,
   "metadata": {
    "scrolled": true
   },
   "outputs": [
    {
     "data": {
      "text/plain": [
       "array([ 5.00505085e+03, -4.01668174e-02, -5.08548398e-02, -5.13338990e-02,\n",
       "       -4.83008624e-02, -4.43839104e-02, -4.04652014e-02, -3.68065924e-02,\n",
       "       -3.34637552e-02, -3.04283135e-02, -2.76747977e-02, -2.51753755e-02,\n",
       "       -2.29040004e-02, -2.08372582e-02, -1.89542873e-02, -2.24935540e-02,\n",
       "        3.23756864e-02, -1.35268726e-02, -2.08031845e-02, -1.83816112e-03,\n",
       "       -1.67248411e-02, -4.06854828e-02, -1.86086196e-02,  2.46453527e-03,\n",
       "        3.91854441e-02, -3.10706920e-02,  2.83435502e-02,  4.09950514e-02,\n",
       "        8.78444693e-03,  5.26593692e-02,  4.06259870e-02,  2.00266965e-03,\n",
       "        4.06175423e-03,  3.41419725e-02, -2.94710109e-03, -2.11936697e-02,\n",
       "        2.78910917e-03, -6.62459765e-03, -1.84670154e-02, -1.56110387e-02,\n",
       "       -2.32557181e-02])"
      ]
     },
     "execution_count": 1448,
     "metadata": {},
     "output_type": "execute_result"
    }
   ],
   "source": [
    "optimal_theta   ## theta when lambda was more"
   ]
  },
  {
   "cell_type": "code",
   "execution_count": 1443,
   "metadata": {},
   "outputs": [
    {
     "data": {
      "text/plain": [
       "array([ 5.00505085e+03, -1.42021063e-02, -1.62095628e-02, -1.64789127e-02,\n",
       "       -1.61055705e-02, -1.55251358e-02, -1.48962770e-02, -1.42756185e-02,\n",
       "       -1.36829155e-02, -1.31244753e-02, -1.26015751e-02, -1.21135356e-02,\n",
       "       -1.16588810e-02, -1.12358050e-02, -1.08423753e-02, -2.76489328e-03,\n",
       "        1.18255417e-02, -1.99701078e-03, -6.31304827e-05, -4.39236615e-04,\n",
       "       -1.20549673e-03, -5.16639141e-03, -9.37984518e-03,  2.17798509e-03,\n",
       "        9.21036121e-03, -5.35585092e-03,  5.56500472e-03,  6.13347437e-03,\n",
       "        4.95908894e-03,  8.76882478e-03,  9.40144773e-03, -5.03889018e-04,\n",
       "       -2.70010652e-03,  7.01460049e-03,  6.80864975e-04, -3.15718916e-03,\n",
       "        2.97553703e-05, -7.35855684e-04, -1.68322264e-03, -3.25494841e-03,\n",
       "       -6.47061163e-03])"
      ]
     },
     "execution_count": 1443,
     "metadata": {},
     "output_type": "execute_result"
    }
   ],
   "source": [
    "parameter_list[-1]"
   ]
  },
  {
   "cell_type": "code",
   "execution_count": 1387,
   "metadata": {},
   "outputs": [
    {
     "data": {
      "text/plain": [
       "array([ 5.00505085e+03, -2.74780407e-02, -3.19050938e-02, -3.21300594e-02,\n",
       "       -3.08792857e-02, -2.92212226e-02, -2.75257305e-02, -2.59111500e-02,\n",
       "       -2.44093981e-02, -2.30237124e-02, -2.17483876e-02, -2.05753667e-02,\n",
       "       -1.94963589e-02, -1.85034721e-02, -1.75893700e-02, -8.95050121e-03,\n",
       "        2.19080002e-02, -6.23180249e-03, -4.79334881e-03, -7.30612901e-04,\n",
       "       -5.50929196e-03, -1.50953356e-02, -1.62898919e-02,  3.52203163e-03,\n",
       "        2.05841798e-02, -1.38300810e-02,  1.30416435e-02,  1.60542216e-02,\n",
       "        8.18395793e-03,  2.20102308e-02,  2.01347653e-02, -1.69364715e-04,\n",
       "       -3.05542749e-03,  1.68306610e-02,  3.99857341e-04, -8.21939293e-03,\n",
       "        1.12903419e-03, -2.33881172e-03, -5.84381108e-03, -7.53357067e-03,\n",
       "       -1.35413573e-02])"
      ]
     },
     "execution_count": 1387,
     "metadata": {},
     "output_type": "execute_result"
    }
   ],
   "source": [
    "optimal_theta  ## theta when lambda was less"
   ]
  },
  {
   "cell_type": "code",
   "execution_count": 1449,
   "metadata": {},
   "outputs": [
    {
     "data": {
      "text/plain": [
       "0.11852403288898476"
      ]
     },
     "execution_count": 1449,
     "metadata": {},
     "output_type": "execute_result"
    }
   ],
   "source": [
    "#\n",
    "model1.cost_func(optimal_theta,l2_penalty)"
   ]
  },
  {
   "cell_type": "markdown",
   "metadata": {},
   "source": [
    "model.cost_func(optimal_theta,l2_penalty)"
   ]
  },
  {
   "cell_type": "markdown",
   "metadata": {},
   "source": [
    "pred = model.predict(polynomial_data,optimal_theta)"
   ]
  },
  {
   "cell_type": "code",
   "execution_count": 1450,
   "metadata": {},
   "outputs": [],
   "source": [
    "pred = model1.predict(optimal_theta)"
   ]
  },
  {
   "cell_type": "code",
   "execution_count": 1451,
   "metadata": {
    "scrolled": true
   },
   "outputs": [
    {
     "data": {
      "text/plain": [
       "0.3606466899018208"
      ]
     },
     "execution_count": 1451,
     "metadata": {},
     "output_type": "execute_result"
    }
   ],
   "source": [
    "math.sqrt(mean_squared_error(pred,target))"
   ]
  },
  {
   "cell_type": "markdown",
   "metadata": {
    "scrolled": true
   },
   "source": [
    "pred,target"
   ]
  },
  {
   "cell_type": "code",
   "execution_count": 630,
   "metadata": {},
   "outputs": [
    {
     "data": {
      "image/png": "[encoded data removed]",
      "text/plain": [
       "<Figure size 504x360 with 1 Axes>"
      ]
     },
     "metadata": {},
     "output_type": "display_data"
    }
   ],
   "source": [
    "plt.figure(figsize=(7,5))\n",
    "plt.scatter(data,target,label='Actual points')\n",
    "plt.plot(data,pred,c='r',linewidth=3,label='Ridge Regression line')\n",
    "plt.xlabel(\"X1\",fontsize=15,labelpad=12)\n",
    "plt.ylabel(\"Y\",fontsize=15,labelpad=12)\n",
    "\n",
    "plt.title(\"Ridge regression  Degree - {}  L2 Penalty - {}\".format(degree,l2_penalty),fontsize=15,pad=12)\n",
    "plt.legend()\n",
    "plt.show()"
   ]
  },
  {
   "cell_type": "code",
   "execution_count": 664,
   "metadata": {},
   "outputs": [
    {
     "data": {
      "image/png": "[encoded data removed]",
      "text/plain": [
       "<Figure size 504x360 with 1 Axes>"
      ]
     },
     "metadata": {},
     "output_type": "display_data"
    }
   ],
   "source": [
    "plt.figure(figsize=(7,5))\n",
    "plt.scatter(data,target,label='Actual points')\n",
    "plt.plot(data,pred,c='r',linewidth=3,label='Ridge Regression line')\n",
    "plt.xlabel(\"X1\",fontsize=15,labelpad=12)\n",
    "plt.ylabel(\"Y\",fontsize=15,labelpad=12)\n",
    "\n",
    "plt.title(\"Ridge regression  Degree - {}  L2 Penalty - {}\".format(degree,l2_penalty),fontsize=15,pad=12)\n",
    "plt.legend()\n",
    "plt.show()"
   ]
  },
  {
   "cell_type": "code",
   "execution_count": 1421,
   "metadata": {},
   "outputs": [
    {
     "data": {
      "image/png": "[encoded data removed]",
      "text/plain": [
       "<Figure size 504x360 with 1 Axes>"
      ]
     },
     "metadata": {},
     "output_type": "display_data"
    }
   ],
   "source": [
    "plt.figure(figsize=(7,5))\n",
    "plt.scatter(polynomial_data.iloc[:,1],target,label='Actual points')\n",
    "plt.plot(polynomial_data.iloc[:,1],pred,c='r',linewidth=3,label='Ridge Regression line')\n",
    "plt.xlabel(\"X1\",fontsize=15,labelpad=12)\n",
    "plt.ylabel(\"Y\",fontsize=15,labelpad=12)\n",
    "\n",
    "plt.title(\"Ridge regression  Degree - {}  L2 Penalty - {}\".format(degree,l2_penalty),fontsize=15,pad=12)\n",
    "plt.legend()\n",
    "plt.show()"
   ]
  },
  {
   "cell_type": "code",
   "execution_count": 1453,
   "metadata": {
    "scrolled": false
   },
   "outputs": [
    {
     "data": {
      "image/png": "[encoded data removed]",
      "text/plain": [
       "<Figure size 504x360 with 1 Axes>"
      ]
     },
     "metadata": {},
     "output_type": "display_data"
    }
   ],
   "source": [
    "plt.figure(figsize=(7,5))\n",
    "plt.scatter(polynomial_data.iloc[:,1],target,label='Actual points')\n",
    "plt.plot(polynomial_data.iloc[:,1],pred,c='r',linewidth=3,label='Ridge Regression line')\n",
    "plt.xlabel(\"X1\",fontsize=15,labelpad=12)\n",
    "plt.ylabel(\"Y\",fontsize=15,labelpad=12)\n",
    "\n",
    "plt.title(\"Ridge regression  Degree - {}  L2 Penalty - {}\".format(degree,l2_penalty),fontsize=15,pad=12)\n",
    "plt.legend()\n",
    "plt.show()"
   ]
  },
  {
   "cell_type": "code",
   "execution_count": 1439,
   "metadata": {},
   "outputs": [
    {
     "data": {
      "image/png": "[encoded data removed]",
      "text/plain": [
       "<Figure size 504x360 with 1 Axes>"
      ]
     },
     "metadata": {},
     "output_type": "display_data"
    }
   ],
   "source": [
    "plt.figure(figsize=(7,5))\n",
    "plt.scatter(polynomial_data.iloc[:,1],target,label='Actual points')\n",
    "plt.plot(polynomial_data.iloc[:,1],pred,c='r',linewidth=3,label='Ridge Regression line')\n",
    "plt.xlabel(\"X1\",fontsize=15,labelpad=12)\n",
    "plt.ylabel(\"Y\",fontsize=15,labelpad=12)\n",
    "\n",
    "plt.title(\"Ridge regression  Degree - {}  L2 Penalty - {}\".format(degree,l2_penalty),fontsize=15,pad=12)\n",
    "plt.legend()\n",
    "plt.show()"
   ]
  },
  {
   "cell_type": "code",
   "execution_count": 741,
   "metadata": {},
   "outputs": [
    {
     "data": {
      "image/png": "[encoded data removed]",
      "text/plain": [
       "<Figure size 504x360 with 1 Axes>"
      ]
     },
     "metadata": {},
     "output_type": "display_data"
    }
   ],
   "source": [
    "plt.figure(figsize=(7,5))\n",
    "plt.scatter(data,target,label='Actual points')\n",
    "plt.plot(data,pred,c='r',linewidth=3,label='Ridge Regression line')\n",
    "plt.xlabel(\"X1\",fontsize=15,labelpad=12)\n",
    "plt.ylabel(\"Y\",fontsize=15,labelpad=12)\n",
    "\n",
    "plt.title(\"Ridge regression  Degree - {}  L2 Penalty - {}\".format(degree,l2_penalty),fontsize=15,pad=12)\n",
    "plt.legend()\n",
    "plt.show()"
   ]
  },
  {
   "cell_type": "code",
   "execution_count": 1475,
   "metadata": {
    "scrolled": false
   },
   "outputs": [
    {
     "data": {
      "image/png": "[encoded data removed]",
      "text/plain": [
       "<Figure size 504x360 with 1 Axes>"
      ]
     },
     "metadata": {},
     "output_type": "display_data"
    }
   ],
   "source": [
    "plt.figure(figsize=(7,5))\n",
    "plt.plot(range(len(loss_list))[:300],loss_list[:300],linewidth=4,c='g')\n",
    "plt.xlabel('Iterations',fontsize=15,labelpad=15)\n",
    "plt.ylabel('Error',fontsize=15,labelpad=15)\n",
    "plt.title(\"Cost Function\",fontsize=15,pad=12)\n",
    "plt.show()"
   ]
  },
  {
   "cell_type": "code",
   "execution_count": 1472,
   "metadata": {},
   "outputs": [
    {
     "data": {
      "image/png": "[encoded data removed]",
      "text/plain": [
       "<Figure size 504x360 with 1 Axes>"
      ]
     },
     "metadata": {},
     "output_type": "display_data"
    }
   ],
   "source": [
    "plt.figure(figsize=(7,5))\n",
    "plt.scatter(range(len(parameter_list))[:300],list(zip(*parameter_list))[1][:300],c='g',s=4)\n",
    "plt.xlabel('Iterations',fontsize=15,labelpad=15)\n",
    "plt.ylabel('Theta 1',fontsize=15,labelpad=15)\n",
    "plt.title(\"Parameter vs Iterations\",fontsize=15,pad=12)\n",
    "plt.show()"
   ]
  },
  {
   "cell_type": "code",
   "execution_count": 1474,
   "metadata": {},
   "outputs": [
    {
     "data": {
      "text/plain": [
       "(12517745.265708, 0.11852403288900652)"
      ]
     },
     "execution_count": 1474,
     "metadata": {},
     "output_type": "execute_result"
    }
   ],
   "source": [
    "loss_list[0],loss_list[-1]"
   ]
  },
  {
   "cell_type": "markdown",
   "metadata": {},
   "source": [
    "print(list(zip(*parameter_list))[1])"
   ]
  },
  {
   "cell_type": "markdown",
   "metadata": {},
   "source": [
    "parameter_list"
   ]
  },
  {
   "cell_type": "code",
   "execution_count": null,
   "metadata": {},
   "outputs": [],
   "source": []
  }
 ],
 "metadata": {
  "kernelspec": {
   "display_name": "Python 3",
   "language": "python",
   "name": "python3"
  },
  "language_info": {
   "codemirror_mode": {
    "name": "ipython",
    "version": 3
   },
   "file_extension": ".py",
   "mimetype": "text/x-python",
   "name": "python",
   "nbconvert_exporter": "python",
   "pygments_lexer": "ipython3",
   "version": "3.7.3"
  }
 },
 "nbformat": 4,
 "nbformat_minor": 2
}
