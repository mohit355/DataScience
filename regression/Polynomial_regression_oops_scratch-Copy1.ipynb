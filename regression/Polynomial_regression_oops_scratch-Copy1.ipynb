{
 "cells": [
  {
   "cell_type": "code",
   "execution_count": 1,
   "metadata": {},
   "outputs": [
    {
     "name": "stderr",
     "output_type": "stream",
     "text": [
      "C:\\Users\\Shivam\\AppData\\Local\\Continuum\\anaconda3\\lib\\site-packages\\statsmodels\\tools\\_testing.py:19: FutureWarning: pandas.util.testing is deprecated. Use the functions in the public API at pandas.testing instead.\n",
      "  import pandas.util.testing as tm\n"
     ]
    }
   ],
   "source": [
    "import matplotlib.pyplot as plt\n",
    "import seaborn as sns\n",
    "import numpy as np\n",
    "import pandas as pd\n",
    "# ^^^ pyforest auto-imports - don't write above this line\n",
    "import pandas as pd\n",
    "import numpy as np\n",
    "import random\n",
    "import matplotlib.pyplot as plt\n",
    "import math\n",
    "import seaborn as sns\n",
    "from sklearn.metrics import mean_squared_error\n",
    "from sklearn.linear_model import LinearRegression\n",
    "from sklearn.preprocessing import PolynomialFeatures"
   ]
  },
  {
   "cell_type": "markdown",
   "metadata": {},
   "source": [
    "#### Creating dataset"
   ]
  },
  {
   "cell_type": "markdown",
   "metadata": {},
   "source": [
    "#### Create random values of x from 0 to 1"
   ]
  },
  {
   "cell_type": "markdown",
   "metadata": {},
   "source": [
    "n=30\n",
    "x = np.random.random(n)"
   ]
  },
  {
   "cell_type": "markdown",
   "metadata": {},
   "source": [
    "y = [math.sin(4*i) for i in x]"
   ]
  },
  {
   "cell_type": "code",
   "execution_count": 24,
   "metadata": {},
   "outputs": [],
   "source": [
    "x = np.array([[1, 2, 3, 4, 5, 6, 7, 8, 9, 10,11,12,13,14,15,16,17,18,19,20]]).T\n",
    "#y = np.array([45000, 50000, 60000, 80000, 110000, 150000, 200000, 300000, 500000, 1000000,1200000,1450000,1670000,1795000,1880000,1950000,2020000,2140000,2200000, 2300000])\n",
    "y = 1.5*np.sin(0.25*x)**5 + 5000"
   ]
  },
  {
   "cell_type": "code",
   "execution_count": 25,
   "metadata": {},
   "outputs": [],
   "source": [
    "#random.seed(1)\n",
    "#e = np.random.random(30)\n",
    "e = np.array([random.randint(1,20) for _ in range(20)])\n",
    "y = y + e"
   ]
  },
  {
   "cell_type": "code",
   "execution_count": 26,
   "metadata": {
    "scrolled": true
   },
   "outputs": [],
   "source": [
    "data = pd.DataFrame(columns=['Y','X0','X1'])\n",
    "data['X0'] = [1]*20\n",
    "data.loc[:,'X1'] = x\n",
    "#data.loc[:,'Y'] = y\n",
    "data['Y'] = y"
   ]
  },
  {
   "cell_type": "code",
   "execution_count": 27,
   "metadata": {
    "scrolled": false
   },
   "outputs": [
    {
     "data": {
      "text/html": [
       "<div>\n",
       "<style scoped>\n",
       "    .dataframe tbody tr th:only-of-type {\n",
       "        vertical-align: middle;\n",
       "    }\n",
       "\n",
       "    .dataframe tbody tr th {\n",
       "        vertical-align: top;\n",
       "    }\n",
       "\n",
       "    .dataframe thead th {\n",
       "        text-align: right;\n",
       "    }\n",
       "</style>\n",
       "<table border=\"1\" class=\"dataframe\">\n",
       "  <thead>\n",
       "    <tr style=\"text-align: right;\">\n",
       "      <th></th>\n",
       "      <th>Y</th>\n",
       "      <th>X0</th>\n",
       "      <th>X1</th>\n",
       "    </tr>\n",
       "  </thead>\n",
       "  <tbody>\n",
       "    <tr>\n",
       "      <th>0</th>\n",
       "      <td>5013.001390</td>\n",
       "      <td>1</td>\n",
       "      <td>1</td>\n",
       "    </tr>\n",
       "    <tr>\n",
       "      <th>1</th>\n",
       "      <td>5013.037992</td>\n",
       "      <td>1</td>\n",
       "      <td>2</td>\n",
       "    </tr>\n",
       "    <tr>\n",
       "      <th>2</th>\n",
       "      <td>5013.220731</td>\n",
       "      <td>1</td>\n",
       "      <td>3</td>\n",
       "    </tr>\n",
       "    <tr>\n",
       "      <th>3</th>\n",
       "      <td>5013.632830</td>\n",
       "      <td>1</td>\n",
       "      <td>4</td>\n",
       "    </tr>\n",
       "    <tr>\n",
       "      <th>4</th>\n",
       "      <td>5014.154482</td>\n",
       "      <td>1</td>\n",
       "      <td>5</td>\n",
       "    </tr>\n",
       "  </tbody>\n",
       "</table>\n",
       "</div>"
      ],
      "text/plain": [
       "             Y  X0  X1\n",
       "0  5013.001390   1   1\n",
       "1  5013.037992   1   2\n",
       "2  5013.220731   1   3\n",
       "3  5013.632830   1   4\n",
       "4  5014.154482   1   5"
      ]
     },
     "execution_count": 27,
     "metadata": {},
     "output_type": "execute_result"
    }
   ],
   "source": [
    "data.head()"
   ]
  },
  {
   "cell_type": "code",
   "execution_count": 9,
   "metadata": {},
   "outputs": [],
   "source": [
    "data.to_csv(r\"C:/Users/Shivam/Desktop/polydata.csv\")"
   ]
  },
  {
   "cell_type": "code",
   "execution_count": 28,
   "metadata": {},
   "outputs": [],
   "source": [
    "sns.set_style(\"whitegrid\")"
   ]
  },
  {
   "cell_type": "code",
   "execution_count": 29,
   "metadata": {
    "scrolled": true
   },
   "outputs": [],
   "source": [
    "def plot_data(data):\n",
    "    plt.figure(figsize=(7,5))\n",
    "    plt.scatter(data['X1'],data['Y'])\n",
    "    plt.xlabel(\"X1\",fontsize=15,labelpad=12)\n",
    "    plt.ylabel(\"Y\",fontsize=15,labelpad=12)\n",
    "    plt.show()"
   ]
  },
  {
   "cell_type": "code",
   "execution_count": 30,
   "metadata": {},
   "outputs": [
    {
     "data": {
      "image/png": "[encoded data removed]",
      "text/plain": [
       "<Figure size 504x360 with 1 Axes>"
      ]
     },
     "metadata": {},
     "output_type": "display_data"
    }
   ],
   "source": [
    "plot_data(data)"
   ]
  },
  {
   "cell_type": "markdown",
   "metadata": {},
   "source": [
    "#### Polynomial features"
   ]
  },
  {
   "cell_type": "code",
   "execution_count": 31,
   "metadata": {},
   "outputs": [],
   "source": [
    "def polynomial(data,deg):\n",
    "    data_copy = data.copy()\n",
    "    for i in range(1,deg):\n",
    "        data_copy['X'+ str(i+1)] = data_copy['X1'] * data_copy['X' + str(i)]\n",
    "    return data_copy"
   ]
  },
  {
   "cell_type": "markdown",
   "metadata": {},
   "source": [
    "##### Polynomial Regression Class"
   ]
  },
  {
   "cell_type": "code",
   "execution_count": 32,
   "metadata": {},
   "outputs": [],
   "source": [
    "class Polynomial_regression:\n",
    "    def __init__(self,x,y):\n",
    "        self.x = x        \n",
    "        self.y = y\n",
    "        \n",
    "    def hypothesis(self,theta):\n",
    "        return (self.x@theta)\n",
    "    \n",
    "    def cost_linear(self,theta):\n",
    "        err = math.sqrt(mean_squared_error(self.hypothesis(theta),self.y))\n",
    "        return (err)\n",
    "    \n",
    "    def gradient(self,diff,x_attr):\n",
    "        tot_gradient = np.dot(diff,x_attr)\n",
    "        return(tot_gradient)\n",
    "    \n",
    "    def fit(self,theta):\n",
    "        parameter_list = []\n",
    "        loss_list = []\n",
    "        lr = 0.01\n",
    "        n_iters = 0\n",
    "        cost = self.cost_linear(theta)\n",
    "        for i in range(5000):\n",
    "            parameter_list.append(theta)\n",
    "            loss_list.append(cost)\n",
    "            #diff = hypothesis(x,theta)-y\n",
    "            theta = theta - lr * (1/self.x.shape[0]) * (self.x.T @ ((self.x @ theta) - self.y))\n",
    "            \n",
    "            cost = self.cost_linear(theta)\n",
    "\n",
    "            #if((old-cost)<0.001):\n",
    "             #   loss_list.append(cost)\n",
    "              #  parameter_list.append(theta)\n",
    "               # return theta,loss_list,parameter_list\n",
    "        parameter_list.append(theta)\n",
    "        loss_list.append(cost)\n",
    "        return theta,loss_list,parameter_list\n",
    "    \n",
    "    def predict(self,x,updated_theta):\n",
    "        return(x@updated_theta)       \n",
    "    \n",
    "    def sklearn_regression(self,data,deg):\n",
    "        polynom = PolynomialFeatures(degree=deg)\n",
    "        Y = data['Y']\n",
    "        new_data = data.copy()\n",
    "        new_data.drop(['Y','X0'],axis=1,inplace=True)\n",
    "        new_data = pd.DataFrame(polynom.fit_transform(new_data))\n",
    "        lr = LinearRegression()\n",
    "        lr.fit(new_data,Y)\n",
    "        return (lr.predict(new_data),lr)"
   ]
  },
  {
   "cell_type": "markdown",
   "metadata": {},
   "source": [
    "##### Transforming Polynomial features"
   ]
  },
  {
   "cell_type": "code",
   "execution_count": 33,
   "metadata": {},
   "outputs": [],
   "source": [
    "deg = 40"
   ]
  },
  {
   "cell_type": "code",
   "execution_count": 125,
   "metadata": {},
   "outputs": [],
   "source": [
    "poly_data.to_csv(\"C:/Users/Shivam/Desktop/poly_data.csv\")"
   ]
  },
  {
   "cell_type": "code",
   "execution_count": 34,
   "metadata": {
    "scrolled": false
   },
   "outputs": [
    {
     "data": {
      "text/html": [
       "<div>\n",
       "<style scoped>\n",
       "    .dataframe tbody tr th:only-of-type {\n",
       "        vertical-align: middle;\n",
       "    }\n",
       "\n",
       "    .dataframe tbody tr th {\n",
       "        vertical-align: top;\n",
       "    }\n",
       "\n",
       "    .dataframe thead th {\n",
       "        text-align: right;\n",
       "    }\n",
       "</style>\n",
       "<table border=\"1\" class=\"dataframe\">\n",
       "  <thead>\n",
       "    <tr style=\"text-align: right;\">\n",
       "      <th></th>\n",
       "      <th>Y</th>\n",
       "      <th>X0</th>\n",
       "      <th>X1</th>\n",
       "      <th>X2</th>\n",
       "      <th>X3</th>\n",
       "      <th>X4</th>\n",
       "      <th>X5</th>\n",
       "      <th>X6</th>\n",
       "      <th>X7</th>\n",
       "      <th>X8</th>\n",
       "      <th>...</th>\n",
       "      <th>X31</th>\n",
       "      <th>X32</th>\n",
       "      <th>X33</th>\n",
       "      <th>X34</th>\n",
       "      <th>X35</th>\n",
       "      <th>X36</th>\n",
       "      <th>X37</th>\n",
       "      <th>X38</th>\n",
       "      <th>X39</th>\n",
       "      <th>X40</th>\n",
       "    </tr>\n",
       "  </thead>\n",
       "  <tbody>\n",
       "    <tr>\n",
       "      <th>0</th>\n",
       "      <td>5013.001390</td>\n",
       "      <td>1</td>\n",
       "      <td>1</td>\n",
       "      <td>1</td>\n",
       "      <td>1</td>\n",
       "      <td>1</td>\n",
       "      <td>1</td>\n",
       "      <td>1</td>\n",
       "      <td>1</td>\n",
       "      <td>1</td>\n",
       "      <td>...</td>\n",
       "      <td>1</td>\n",
       "      <td>1</td>\n",
       "      <td>1</td>\n",
       "      <td>1</td>\n",
       "      <td>1</td>\n",
       "      <td>1</td>\n",
       "      <td>1</td>\n",
       "      <td>1</td>\n",
       "      <td>1</td>\n",
       "      <td>1</td>\n",
       "    </tr>\n",
       "    <tr>\n",
       "      <th>1</th>\n",
       "      <td>5013.037992</td>\n",
       "      <td>1</td>\n",
       "      <td>2</td>\n",
       "      <td>4</td>\n",
       "      <td>8</td>\n",
       "      <td>16</td>\n",
       "      <td>32</td>\n",
       "      <td>64</td>\n",
       "      <td>128</td>\n",
       "      <td>256</td>\n",
       "      <td>...</td>\n",
       "      <td>2147483648</td>\n",
       "      <td>4294967296</td>\n",
       "      <td>8589934592</td>\n",
       "      <td>17179869184</td>\n",
       "      <td>34359738368</td>\n",
       "      <td>68719476736</td>\n",
       "      <td>137438953472</td>\n",
       "      <td>274877906944</td>\n",
       "      <td>549755813888</td>\n",
       "      <td>1099511627776</td>\n",
       "    </tr>\n",
       "    <tr>\n",
       "      <th>2</th>\n",
       "      <td>5013.220731</td>\n",
       "      <td>1</td>\n",
       "      <td>3</td>\n",
       "      <td>9</td>\n",
       "      <td>27</td>\n",
       "      <td>81</td>\n",
       "      <td>243</td>\n",
       "      <td>729</td>\n",
       "      <td>2187</td>\n",
       "      <td>6561</td>\n",
       "      <td>...</td>\n",
       "      <td>617673396283947</td>\n",
       "      <td>1853020188851841</td>\n",
       "      <td>5559060566555523</td>\n",
       "      <td>16677181699666569</td>\n",
       "      <td>50031545098999707</td>\n",
       "      <td>150094635296999121</td>\n",
       "      <td>450283905890997363</td>\n",
       "      <td>1350851717672992089</td>\n",
       "      <td>4052555153018976267</td>\n",
       "      <td>-6289078614652622815</td>\n",
       "    </tr>\n",
       "    <tr>\n",
       "      <th>3</th>\n",
       "      <td>5013.632830</td>\n",
       "      <td>1</td>\n",
       "      <td>4</td>\n",
       "      <td>16</td>\n",
       "      <td>64</td>\n",
       "      <td>256</td>\n",
       "      <td>1024</td>\n",
       "      <td>4096</td>\n",
       "      <td>16384</td>\n",
       "      <td>65536</td>\n",
       "      <td>...</td>\n",
       "      <td>4611686018427387904</td>\n",
       "      <td>0</td>\n",
       "      <td>0</td>\n",
       "      <td>0</td>\n",
       "      <td>0</td>\n",
       "      <td>0</td>\n",
       "      <td>0</td>\n",
       "      <td>0</td>\n",
       "      <td>0</td>\n",
       "      <td>0</td>\n",
       "    </tr>\n",
       "    <tr>\n",
       "      <th>4</th>\n",
       "      <td>5014.154482</td>\n",
       "      <td>1</td>\n",
       "      <td>5</td>\n",
       "      <td>25</td>\n",
       "      <td>125</td>\n",
       "      <td>625</td>\n",
       "      <td>3125</td>\n",
       "      <td>15625</td>\n",
       "      <td>78125</td>\n",
       "      <td>390625</td>\n",
       "      <td>...</td>\n",
       "      <td>8033366502585570893</td>\n",
       "      <td>3273344365508751233</td>\n",
       "      <td>-2080022246165795451</td>\n",
       "      <td>8046632842880574361</td>\n",
       "      <td>3339676066983768573</td>\n",
       "      <td>-1748363738790708751</td>\n",
       "      <td>-8741818693953543755</td>\n",
       "      <td>-6815605322348615543</td>\n",
       "      <td>2815461535676025517</td>\n",
       "      <td>-4369436395329424031</td>\n",
       "    </tr>\n",
       "  </tbody>\n",
       "</table>\n",
       "<p>5 rows × 42 columns</p>\n",
       "</div>"
      ],
      "text/plain": [
       "             Y  X0  X1  X2   X3   X4    X5     X6     X7      X8  ...  \\\n",
       "0  5013.001390   1   1   1    1    1     1      1      1       1  ...   \n",
       "1  5013.037992   1   2   4    8   16    32     64    128     256  ...   \n",
       "2  5013.220731   1   3   9   27   81   243    729   2187    6561  ...   \n",
       "3  5013.632830   1   4  16   64  256  1024   4096  16384   65536  ...   \n",
       "4  5014.154482   1   5  25  125  625  3125  15625  78125  390625  ...   \n",
       "\n",
       "                   X31                  X32                  X33  \\\n",
       "0                    1                    1                    1   \n",
       "1           2147483648           4294967296           8589934592   \n",
       "2      617673396283947     1853020188851841     5559060566555523   \n",
       "3  4611686018427387904                    0                    0   \n",
       "4  8033366502585570893  3273344365508751233 -2080022246165795451   \n",
       "\n",
       "                   X34                  X35                  X36  \\\n",
       "0                    1                    1                    1   \n",
       "1          17179869184          34359738368          68719476736   \n",
       "2    16677181699666569    50031545098999707   150094635296999121   \n",
       "3                    0                    0                    0   \n",
       "4  8046632842880574361  3339676066983768573 -1748363738790708751   \n",
       "\n",
       "                   X37                  X38                  X39  \\\n",
       "0                    1                    1                    1   \n",
       "1         137438953472         274877906944         549755813888   \n",
       "2   450283905890997363  1350851717672992089  4052555153018976267   \n",
       "3                    0                    0                    0   \n",
       "4 -8741818693953543755 -6815605322348615543  2815461535676025517   \n",
       "\n",
       "                   X40  \n",
       "0                    1  \n",
       "1        1099511627776  \n",
       "2 -6289078614652622815  \n",
       "3                    0  \n",
       "4 -4369436395329424031  \n",
       "\n",
       "[5 rows x 42 columns]"
      ]
     },
     "execution_count": 34,
     "metadata": {},
     "output_type": "execute_result"
    }
   ],
   "source": [
    "poly_data = polynomial(data,deg)\n",
    "#poly_data['X0'] = 1\n",
    "m = len(poly_data)\n",
    "poly_data.head()"
   ]
  },
  {
   "cell_type": "code",
   "execution_count": 35,
   "metadata": {
    "scrolled": true
   },
   "outputs": [],
   "source": [
    "poly_data.iloc[:, 2:] = (poly_data.iloc[:, 2:] - np.mean(poly_data.iloc[:, 2:], axis=0)) / np.std(poly_data.iloc[:, 2:], axis=0)"
   ]
  },
  {
   "cell_type": "code",
   "execution_count": 36,
   "metadata": {},
   "outputs": [
    {
     "data": {
      "text/html": [
       "<div>\n",
       "<style scoped>\n",
       "    .dataframe tbody tr th:only-of-type {\n",
       "        vertical-align: middle;\n",
       "    }\n",
       "\n",
       "    .dataframe tbody tr th {\n",
       "        vertical-align: top;\n",
       "    }\n",
       "\n",
       "    .dataframe thead th {\n",
       "        text-align: right;\n",
       "    }\n",
       "</style>\n",
       "<table border=\"1\" class=\"dataframe\">\n",
       "  <thead>\n",
       "    <tr style=\"text-align: right;\">\n",
       "      <th></th>\n",
       "      <th>Y</th>\n",
       "      <th>X0</th>\n",
       "      <th>X1</th>\n",
       "      <th>X2</th>\n",
       "      <th>X3</th>\n",
       "      <th>X4</th>\n",
       "      <th>X5</th>\n",
       "      <th>X6</th>\n",
       "      <th>X7</th>\n",
       "      <th>X8</th>\n",
       "      <th>...</th>\n",
       "      <th>X31</th>\n",
       "      <th>X32</th>\n",
       "      <th>X33</th>\n",
       "      <th>X34</th>\n",
       "      <th>X35</th>\n",
       "      <th>X36</th>\n",
       "      <th>X37</th>\n",
       "      <th>X38</th>\n",
       "      <th>X39</th>\n",
       "      <th>X40</th>\n",
       "    </tr>\n",
       "  </thead>\n",
       "  <tbody>\n",
       "    <tr>\n",
       "      <th>0</th>\n",
       "      <td>5013.001390</td>\n",
       "      <td>1</td>\n",
       "      <td>-1.647509</td>\n",
       "      <td>-1.143075</td>\n",
       "      <td>-0.902736</td>\n",
       "      <td>-0.766620</td>\n",
       "      <td>-0.677733</td>\n",
       "      <td>-0.614161</td>\n",
       "      <td>-0.565919</td>\n",
       "      <td>-0.527776</td>\n",
       "      <td>...</td>\n",
       "      <td>0.122556</td>\n",
       "      <td>-0.311944</td>\n",
       "      <td>-0.109579</td>\n",
       "      <td>-0.388805</td>\n",
       "      <td>0.188887</td>\n",
       "      <td>0.079842</td>\n",
       "      <td>0.188967</td>\n",
       "      <td>-0.180929</td>\n",
       "      <td>-0.229002</td>\n",
       "      <td>0.110565</td>\n",
       "    </tr>\n",
       "    <tr>\n",
       "      <th>1</th>\n",
       "      <td>5013.037992</td>\n",
       "      <td>1</td>\n",
       "      <td>-1.474087</td>\n",
       "      <td>-1.119010</td>\n",
       "      <td>-0.899868</td>\n",
       "      <td>-0.766302</td>\n",
       "      <td>-0.677699</td>\n",
       "      <td>-0.614157</td>\n",
       "      <td>-0.565919</td>\n",
       "      <td>-0.527776</td>\n",
       "      <td>...</td>\n",
       "      <td>0.122556</td>\n",
       "      <td>-0.311944</td>\n",
       "      <td>-0.109579</td>\n",
       "      <td>-0.388805</td>\n",
       "      <td>0.188887</td>\n",
       "      <td>0.079842</td>\n",
       "      <td>0.188967</td>\n",
       "      <td>-0.180929</td>\n",
       "      <td>-0.229002</td>\n",
       "      <td>0.110566</td>\n",
       "    </tr>\n",
       "    <tr>\n",
       "      <th>2</th>\n",
       "      <td>5013.220731</td>\n",
       "      <td>1</td>\n",
       "      <td>-1.300665</td>\n",
       "      <td>-1.078902</td>\n",
       "      <td>-0.892086</td>\n",
       "      <td>-0.764923</td>\n",
       "      <td>-0.677467</td>\n",
       "      <td>-0.614120</td>\n",
       "      <td>-0.565913</td>\n",
       "      <td>-0.527775</td>\n",
       "      <td>...</td>\n",
       "      <td>0.122693</td>\n",
       "      <td>-0.311561</td>\n",
       "      <td>-0.108034</td>\n",
       "      <td>-0.384715</td>\n",
       "      <td>0.204802</td>\n",
       "      <td>0.117859</td>\n",
       "      <td>0.305906</td>\n",
       "      <td>0.153578</td>\n",
       "      <td>0.769603</td>\n",
       "      <td>-1.267898</td>\n",
       "    </tr>\n",
       "    <tr>\n",
       "      <th>3</th>\n",
       "      <td>5013.632830</td>\n",
       "      <td>1</td>\n",
       "      <td>-1.127243</td>\n",
       "      <td>-1.022751</td>\n",
       "      <td>-0.876931</td>\n",
       "      <td>-0.761210</td>\n",
       "      <td>-0.676609</td>\n",
       "      <td>-0.613929</td>\n",
       "      <td>-0.565871</td>\n",
       "      <td>-0.527766</td>\n",
       "      <td>...</td>\n",
       "      <td>1.148553</td>\n",
       "      <td>-0.311944</td>\n",
       "      <td>-0.109579</td>\n",
       "      <td>-0.388805</td>\n",
       "      <td>0.188887</td>\n",
       "      <td>0.079842</td>\n",
       "      <td>0.188967</td>\n",
       "      <td>-0.180929</td>\n",
       "      <td>-0.229002</td>\n",
       "      <td>0.110565</td>\n",
       "    </tr>\n",
       "    <tr>\n",
       "      <th>4</th>\n",
       "      <td>5014.154482</td>\n",
       "      <td>1</td>\n",
       "      <td>-0.953821</td>\n",
       "      <td>-0.950557</td>\n",
       "      <td>-0.851946</td>\n",
       "      <td>-0.753381</td>\n",
       "      <td>-0.674300</td>\n",
       "      <td>-0.613274</td>\n",
       "      <td>-0.565691</td>\n",
       "      <td>-0.527718</td>\n",
       "      <td>...</td>\n",
       "      <td>1.909801</td>\n",
       "      <td>0.365916</td>\n",
       "      <td>-0.687882</td>\n",
       "      <td>1.584816</td>\n",
       "      <td>1.251250</td>\n",
       "      <td>-0.362997</td>\n",
       "      <td>-2.081299</td>\n",
       "      <td>-1.868657</td>\n",
       "      <td>0.464766</td>\n",
       "      <td>-0.847144</td>\n",
       "    </tr>\n",
       "  </tbody>\n",
       "</table>\n",
       "<p>5 rows × 42 columns</p>\n",
       "</div>"
      ],
      "text/plain": [
       "             Y  X0        X1        X2        X3        X4        X5  \\\n",
       "0  5013.001390   1 -1.647509 -1.143075 -0.902736 -0.766620 -0.677733   \n",
       "1  5013.037992   1 -1.474087 -1.119010 -0.899868 -0.766302 -0.677699   \n",
       "2  5013.220731   1 -1.300665 -1.078902 -0.892086 -0.764923 -0.677467   \n",
       "3  5013.632830   1 -1.127243 -1.022751 -0.876931 -0.761210 -0.676609   \n",
       "4  5014.154482   1 -0.953821 -0.950557 -0.851946 -0.753381 -0.674300   \n",
       "\n",
       "         X6        X7        X8  ...       X31       X32       X33       X34  \\\n",
       "0 -0.614161 -0.565919 -0.527776  ...  0.122556 -0.311944 -0.109579 -0.388805   \n",
       "1 -0.614157 -0.565919 -0.527776  ...  0.122556 -0.311944 -0.109579 -0.388805   \n",
       "2 -0.614120 -0.565913 -0.527775  ...  0.122693 -0.311561 -0.108034 -0.384715   \n",
       "3 -0.613929 -0.565871 -0.527766  ...  1.148553 -0.311944 -0.109579 -0.388805   \n",
       "4 -0.613274 -0.565691 -0.527718  ...  1.909801  0.365916 -0.687882  1.584816   \n",
       "\n",
       "        X35       X36       X37       X38       X39       X40  \n",
       "0  0.188887  0.079842  0.188967 -0.180929 -0.229002  0.110565  \n",
       "1  0.188887  0.079842  0.188967 -0.180929 -0.229002  0.110566  \n",
       "2  0.204802  0.117859  0.305906  0.153578  0.769603 -1.267898  \n",
       "3  0.188887  0.079842  0.188967 -0.180929 -0.229002  0.110565  \n",
       "4  1.251250 -0.362997 -2.081299 -1.868657  0.464766 -0.847144  \n",
       "\n",
       "[5 rows x 42 columns]"
      ]
     },
     "execution_count": 36,
     "metadata": {},
     "output_type": "execute_result"
    }
   ],
   "source": [
    "poly_data.head()"
   ]
  },
  {
   "cell_type": "markdown",
   "metadata": {},
   "source": [
    "##### Instantiate polynomial regression class"
   ]
  },
  {
   "cell_type": "code",
   "execution_count": 37,
   "metadata": {
    "scrolled": true
   },
   "outputs": [],
   "source": [
    "poly_reg = Polynomial_regression(poly_data.drop('Y',axis=1).values.reshape(-1,deg+1),poly_data['Y'])"
   ]
  },
  {
   "cell_type": "code",
   "execution_count": 38,
   "metadata": {},
   "outputs": [
    {
     "data": {
      "text/plain": [
       "array([-0.07347346, -1.57373035,  0.58749917, -1.12127111,  0.64282531,\n",
       "        1.01458214,  0.51166808,  0.69508527, -0.32361148, -0.03478222,\n",
       "        1.06448989, -0.35465018,  1.51031809,  0.82357592,  0.92019526,\n",
       "       -0.85719476,  0.14698217,  0.34333492,  0.74105307, -0.77904767,\n",
       "        1.11265512,  0.71840901,  0.18391494, -0.52617965, -0.11759674,\n",
       "       -1.09718212, -0.24920331, -1.8362606 ,  0.47553374,  1.40017967,\n",
       "        0.30268154,  1.35342013,  0.53400894,  0.68051689, -0.26256764,\n",
       "        0.14476206, -0.06228534,  1.4505313 ,  0.60003003,  1.20472973,\n",
       "       -0.22351047])"
      ]
     },
     "execution_count": 38,
     "metadata": {},
     "output_type": "execute_result"
    }
   ],
   "source": [
    "theta = np.random.randn(deg+1)\n",
    "theta"
   ]
  },
  {
   "cell_type": "code",
   "execution_count": 39,
   "metadata": {
    "scrolled": true
   },
   "outputs": [
    {
     "name": "stdout",
     "output_type": "stream",
     "text": [
      "Initial cost : 5013.128577648392\n"
     ]
    }
   ],
   "source": [
    "print(\"Initial cost : {}\".format(poly_reg.cost_linear(theta)))"
   ]
  },
  {
   "cell_type": "code",
   "execution_count": 40,
   "metadata": {},
   "outputs": [],
   "source": [
    "new_theta,loss_list,parameter_list = poly_reg.fit(theta)"
   ]
  },
  {
   "cell_type": "code",
   "execution_count": 41,
   "metadata": {},
   "outputs": [
    {
     "name": "stdout",
     "output_type": "stream",
     "text": [
      "Optimal Loss : 0.0502072294109148\n",
      "\n",
      "Optimal Theta : [ 5.01305085e+03 -9.05326760e-01  1.00202990e+00 -9.39619860e-01\n",
      "  6.40000984e-01  8.61377193e-01  2.31285470e-01  3.05408357e-01\n",
      " -8.07444271e-01 -5.99517533e-01  4.30469444e-01 -1.04786641e+00\n",
      "  7.66577546e-01  3.67002857e-02  9.64421386e-02 -1.70808050e-01\n",
      "  6.40823731e-01  5.56500117e-01  5.88895676e-01 -3.55355831e-01\n",
      "  7.19039917e-01 -6.09006417e-01 -2.73770676e-01  1.68353074e-03\n",
      " -3.92411891e-03 -1.18711655e+00 -4.86365342e-01 -4.30366356e-01\n",
      " -1.66278221e-01  5.72481132e-01  8.45643508e-01  8.95918449e-01\n",
      "  1.32910235e+00  4.03185574e-01 -2.56861808e-01  2.05058452e-01\n",
      "  4.62430817e-01  2.85493256e-01  2.56848504e-01  3.91266328e-01\n",
      "  3.10545173e-02]\n"
     ]
    }
   ],
   "source": [
    "print(\"Optimal Loss : {}\\n\\nOptimal Theta : {}\".format(loss_list[-1], new_theta))"
   ]
  },
  {
   "cell_type": "code",
   "execution_count": 42,
   "metadata": {},
   "outputs": [],
   "source": [
    "pred_optimal = poly_reg.hypothesis(new_theta)"
   ]
  },
  {
   "cell_type": "code",
   "execution_count": 43,
   "metadata": {
    "scrolled": true
   },
   "outputs": [],
   "source": [
    "pred_old = poly_reg.hypothesis(theta)"
   ]
  },
  {
   "cell_type": "code",
   "execution_count": 44,
   "metadata": {},
   "outputs": [
    {
     "data": {
      "text/plain": [
       "array([5013.0117151 , 5012.87636514, 5013.24163661, 5013.78297923,\n",
       "       5014.1425311 , 5014.49089449, 5014.37876005, 5013.92641988,\n",
       "       5013.42890117, 5013.11809311, 5013.00707676, 5013.00918342,\n",
       "       5012.99334336, 5012.98830445, 5012.91896125, 5012.60367869,\n",
       "       5012.14355189, 5011.66373103, 5011.50914771, 5011.7816857 ])"
      ]
     },
     "execution_count": 44,
     "metadata": {},
     "output_type": "execute_result"
    }
   ],
   "source": [
    "pred_optimal"
   ]
  },
  {
   "cell_type": "markdown",
   "metadata": {},
   "source": [
    "##### Using sklearn polynomial regression"
   ]
  },
  {
   "cell_type": "code",
   "execution_count": 45,
   "metadata": {
    "scrolled": true
   },
   "outputs": [],
   "source": [
    "pred_sklearn,lr = poly_reg.sklearn_regression(data,11)"
   ]
  },
  {
   "cell_type": "code",
   "execution_count": 46,
   "metadata": {
    "scrolled": true
   },
   "outputs": [
    {
     "data": {
      "text/plain": [
       "0.021372496806948076"
      ]
     },
     "execution_count": 46,
     "metadata": {},
     "output_type": "execute_result"
    }
   ],
   "source": [
    "math.sqrt(mean_squared_error(pred_sklearn,data['Y']))"
   ]
  },
  {
   "cell_type": "code",
   "execution_count": 47,
   "metadata": {},
   "outputs": [
    {
     "data": {
      "text/plain": [
       "(5012.385535361791,\n",
       " array([ 0.00000000e+00,  7.04262415e-01,  3.60566838e-01, -7.79632577e-01,\n",
       "         4.18731818e-01, -1.09784876e-01,  1.66281297e-02, -1.56010153e-03,\n",
       "         9.24540403e-05, -3.37841769e-06,  6.96375801e-08, -6.20312960e-10]))"
      ]
     },
     "execution_count": 47,
     "metadata": {},
     "output_type": "execute_result"
    }
   ],
   "source": [
    "lr.intercept_,lr.coef_"
   ]
  },
  {
   "cell_type": "markdown",
   "metadata": {},
   "source": [
    "##### creating such 100 samples of same features and predict with optimal theta"
   ]
  },
  {
   "cell_type": "code",
   "execution_count": 123,
   "metadata": {},
   "outputs": [],
   "source": [
    "n=100\n",
    "x_new = np.random.rand(n)"
   ]
  },
  {
   "cell_type": "code",
   "execution_count": 264,
   "metadata": {},
   "outputs": [
    {
     "data": {
      "text/html": [
       "<div>\n",
       "<style scoped>\n",
       "    .dataframe tbody tr th:only-of-type {\n",
       "        vertical-align: middle;\n",
       "    }\n",
       "\n",
       "    .dataframe tbody tr th {\n",
       "        vertical-align: top;\n",
       "    }\n",
       "\n",
       "    .dataframe thead th {\n",
       "        text-align: right;\n",
       "    }\n",
       "</style>\n",
       "<table border=\"1\" class=\"dataframe\">\n",
       "  <thead>\n",
       "    <tr style=\"text-align: right;\">\n",
       "      <th></th>\n",
       "      <th>X0</th>\n",
       "      <th>X1</th>\n",
       "      <th>X2</th>\n",
       "      <th>X3</th>\n",
       "      <th>X4</th>\n",
       "      <th>X5</th>\n",
       "    </tr>\n",
       "  </thead>\n",
       "  <tbody>\n",
       "    <tr>\n",
       "      <th>0</th>\n",
       "      <td>1</td>\n",
       "      <td>0.039735</td>\n",
       "      <td>0.001579</td>\n",
       "      <td>0.000063</td>\n",
       "      <td>0.000002</td>\n",
       "      <td>9.905452e-08</td>\n",
       "    </tr>\n",
       "    <tr>\n",
       "      <th>1</th>\n",
       "      <td>1</td>\n",
       "      <td>0.664861</td>\n",
       "      <td>0.442041</td>\n",
       "      <td>0.293896</td>\n",
       "      <td>0.195400</td>\n",
       "      <td>1.299139e-01</td>\n",
       "    </tr>\n",
       "    <tr>\n",
       "      <th>2</th>\n",
       "      <td>1</td>\n",
       "      <td>0.672847</td>\n",
       "      <td>0.452723</td>\n",
       "      <td>0.304613</td>\n",
       "      <td>0.204958</td>\n",
       "      <td>1.379055e-01</td>\n",
       "    </tr>\n",
       "    <tr>\n",
       "      <th>3</th>\n",
       "      <td>1</td>\n",
       "      <td>0.468987</td>\n",
       "      <td>0.219949</td>\n",
       "      <td>0.103153</td>\n",
       "      <td>0.048378</td>\n",
       "      <td>2.268848e-02</td>\n",
       "    </tr>\n",
       "    <tr>\n",
       "      <th>4</th>\n",
       "      <td>1</td>\n",
       "      <td>0.927493</td>\n",
       "      <td>0.860243</td>\n",
       "      <td>0.797869</td>\n",
       "      <td>0.740018</td>\n",
       "      <td>6.863610e-01</td>\n",
       "    </tr>\n",
       "  </tbody>\n",
       "</table>\n",
       "</div>"
      ],
      "text/plain": [
       "   X0        X1        X2        X3        X4            X5\n",
       "0   1  0.039735  0.001579  0.000063  0.000002  9.905452e-08\n",
       "1   1  0.664861  0.442041  0.293896  0.195400  1.299139e-01\n",
       "2   1  0.672847  0.452723  0.304613  0.204958  1.379055e-01\n",
       "3   1  0.468987  0.219949  0.103153  0.048378  2.268848e-02\n",
       "4   1  0.927493  0.860243  0.797869  0.740018  6.863610e-01"
      ]
     },
     "execution_count": 264,
     "metadata": {},
     "output_type": "execute_result"
    }
   ],
   "source": [
    "data_new = pd.DataFrame(columns=['X0','X1'])\n",
    "data_new['X0']=[1]*n\n",
    "data_new['X1']=x_new\n",
    "poly_data_new = polynomial(data_new,deg)\n",
    "#poly_data_new['X0']=1\n",
    "poly_data_new.head()"
   ]
  },
  {
   "cell_type": "code",
   "execution_count": 265,
   "metadata": {},
   "outputs": [],
   "source": [
    "pred_new = (poly_data_new.values.reshape(-1,deg+1))@new_theta"
   ]
  },
  {
   "cell_type": "code",
   "execution_count": null,
   "metadata": {},
   "outputs": [],
   "source": []
  },
  {
   "cell_type": "code",
   "execution_count": 48,
   "metadata": {
    "scrolled": false
   },
   "outputs": [
    {
     "data": {
      "image/png": "[encoded data removed]",
      "text/plain": [
       "<Figure size 720x360 with 1 Axes>"
      ]
     },
     "metadata": {},
     "output_type": "display_data"
    }
   ],
   "source": [
    "plt.figure(figsize=(10,5))\n",
    "\n",
    "plt.scatter(poly_data['X1'],poly_data['Y'],label='Actual')\n",
    "plt.plot(poly_data['X1'],pred_optimal,c='r',label='Optimal prediction(20 samples)')\n",
    "#plt.scatter(poly_data['X1'],pred_old,c='orange',s=12,label='Inital prediction(20 samples)')\n",
    "#plt.scatter(poly_data_new['X1'],pred_new,c='violet',s=10,label='Optimal prediction 100 samples')\n",
    "plt.plot(poly_data['X1'],pred_sklearn,c='Brown',label='Sklearn Prediction(30 samples)')\n",
    "\n",
    "\n",
    "plt.legend(bbox_to_anchor=(1.3,0.55))\n",
    "plt.xlabel(\"X1\",fontsize=15,labelpad=12)\n",
    "plt.ylabel(\"Y\",fontsize=15,labelpad=12)\n",
    "plt.title(\"Degree {} Polynomial Regression Plot\".format(deg),fontsize=15,pad=15)\n",
    "plt.show()"
   ]
  },
  {
   "cell_type": "code",
   "execution_count": 49,
   "metadata": {},
   "outputs": [
    {
     "data": {
      "image/png": "[encoded data removed]",
      "text/plain": [
       "<Figure size 504x360 with 1 Axes>"
      ]
     },
     "metadata": {},
     "output_type": "display_data"
    }
   ],
   "source": [
    "plt.figure(figsize=(7,5))\n",
    "plt.plot(range(len(loss_list)),loss_list,linewidth=4,c='g')\n",
    "plt.xlabel('Iterations',fontsize=15,labelpad=15)\n",
    "plt.ylabel('Error',fontsize=15,labelpad=15)\n",
    "plt.title(\"Cost Function\",fontsize=15,pad=12)\n",
    "plt.show()"
   ]
  },
  {
   "cell_type": "code",
   "execution_count": 50,
   "metadata": {
    "scrolled": false
   },
   "outputs": [
    {
     "data": {
      "image/png": "[encoded data removed]",
      "text/plain": [
       "<Figure size 504x360 with 1 Axes>"
      ]
     },
     "metadata": {},
     "output_type": "display_data"
    }
   ],
   "source": [
    "plt.figure(figsize=(7,5))\n",
    "plt.plot(range(len(parameter_list)),list(zip(*parameter_list))[1],c='g',linewidth=3)\n",
    "plt.xlabel('Iterations',fontsize=15,labelpad=15)\n",
    "plt.ylabel('Theta 1',fontsize=15,labelpad=15)\n",
    "plt.title(\"Parameter vs Iterations\",fontsize=15,pad=12)\n",
    "plt.show()"
   ]
  },
  {
   "cell_type": "code",
   "execution_count": 51,
   "metadata": {
    "scrolled": true
   },
   "outputs": [
    {
     "name": "stdout",
     "output_type": "stream",
     "text": [
      "Change in parameter values as the model complexity increases -->\n",
      "\n",
      "From : [-0.07347346 -1.57373035  0.58749917 -1.12127111  0.64282531  1.01458214\n",
      "  0.51166808  0.69508527 -0.32361148 -0.03478222  1.06448989 -0.35465018\n",
      "  1.51031809  0.82357592  0.92019526 -0.85719476  0.14698217  0.34333492\n",
      "  0.74105307 -0.77904767  1.11265512  0.71840901  0.18391494 -0.52617965\n",
      " -0.11759674 -1.09718212 -0.24920331 -1.8362606   0.47553374  1.40017967\n",
      "  0.30268154  1.35342013  0.53400894  0.68051689 -0.26256764  0.14476206\n",
      " -0.06228534  1.4505313   0.60003003  1.20472973 -0.22351047] \n",
      "\n",
      "To :[ 5.01305085e+03 -9.05326760e-01  1.00202990e+00 -9.39619860e-01\n",
      "  6.40000984e-01  8.61377193e-01  2.31285470e-01  3.05408357e-01\n",
      " -8.07444271e-01 -5.99517533e-01  4.30469444e-01 -1.04786641e+00\n",
      "  7.66577546e-01  3.67002857e-02  9.64421386e-02 -1.70808050e-01\n",
      "  6.40823731e-01  5.56500117e-01  5.88895676e-01 -3.55355831e-01\n",
      "  7.19039917e-01 -6.09006417e-01 -2.73770676e-01  1.68353074e-03\n",
      " -3.92411891e-03 -1.18711655e+00 -4.86365342e-01 -4.30366356e-01\n",
      " -1.66278221e-01  5.72481132e-01  8.45643508e-01  8.95918449e-01\n",
      "  1.32910235e+00  4.03185574e-01 -2.56861808e-01  2.05058452e-01\n",
      "  4.62430817e-01  2.85493256e-01  2.56848504e-01  3.91266328e-01\n",
      "  3.10545173e-02] \n"
     ]
    }
   ],
   "source": [
    "print(\"Change in parameter values as the model complexity increases -->\\n\\nFrom : {} \\n\\nTo :{} \".format(theta, parameter_list[-1]))"
   ]
  },
  {
   "cell_type": "markdown",
   "metadata": {},
   "source": [
    "#### Ridge Regression"
   ]
  },
  {
   "cell_type": "code",
   "execution_count": 52,
   "metadata": {},
   "outputs": [],
   "source": [
    "from sklearn.linear_model import Ridge"
   ]
  },
  {
   "cell_type": "code",
   "execution_count": 53,
   "metadata": {},
   "outputs": [],
   "source": [
    "rdg = Ridge(alpha=10)"
   ]
  },
  {
   "cell_type": "code",
   "execution_count": 54,
   "metadata": {},
   "outputs": [
    {
     "data": {
      "text/plain": [
       "Ridge(alpha=10, copy_X=True, fit_intercept=True, max_iter=None, normalize=False,\n",
       "      random_state=None, solver='auto', tol=0.001)"
      ]
     },
     "execution_count": 54,
     "metadata": {},
     "output_type": "execute_result"
    }
   ],
   "source": [
    "Y = poly_data['Y']\n",
    "X = poly_data.copy()\n",
    "X.drop(['X0','Y'],axis=1,inplace=True)\n",
    "rdg.fit(X,Y)"
   ]
  },
  {
   "cell_type": "code",
   "execution_count": 55,
   "metadata": {},
   "outputs": [
    {
     "data": {
      "text/plain": [
       "(5013.050848006293,\n",
       " array([-0.01520239, -0.05987037, -0.07046842, -0.06833754, -0.06219796,\n",
       "        -0.05514756, -0.04823907, -0.04180713, -0.03593472, -0.03061668,\n",
       "        -0.02581771, -0.02149337, -0.01759795, -0.01408752, -0.04333614,\n",
       "         0.04234799, -0.01387527, -0.0531598 , -0.00828589, -0.03364073,\n",
       "        -0.11138269,  0.00728813, -0.00683974,  0.06152843, -0.05972512,\n",
       "         0.05557531,  0.10462497,  0.01319804,  0.1245635 ,  0.10210475,\n",
       "         0.01937071,  0.03754137,  0.05958238, -0.017529  , -0.04828202,\n",
       "        -0.00136025, -0.0237107 , -0.04460325, -0.03238099, -0.03918966]))"
      ]
     },
     "execution_count": 55,
     "metadata": {},
     "output_type": "execute_result"
    }
   ],
   "source": [
    "rdg.intercept_,rdg.coef_"
   ]
  },
  {
   "cell_type": "code",
   "execution_count": 56,
   "metadata": {},
   "outputs": [],
   "source": [
    "pred_ridge = rdg.predict(X)"
   ]
  },
  {
   "cell_type": "code",
   "execution_count": 57,
   "metadata": {},
   "outputs": [
    {
     "data": {
      "text/plain": [
       "(array([ 0.00000000e+00,  7.04262415e-01,  3.60566838e-01, -7.79632577e-01,\n",
       "         4.18731818e-01, -1.09784876e-01,  1.66281297e-02, -1.56010153e-03,\n",
       "         9.24540403e-05, -3.37841769e-06,  6.96375801e-08, -6.20312960e-10]),\n",
       " 5012.385535361791)"
      ]
     },
     "execution_count": 57,
     "metadata": {},
     "output_type": "execute_result"
    }
   ],
   "source": [
    "lr.coef_,lr.intercept_"
   ]
  },
  {
   "cell_type": "code",
   "execution_count": 58,
   "metadata": {
    "scrolled": false
   },
   "outputs": [
    {
     "data": {
      "image/png": "[encoded data removed]",
      "text/plain": [
       "<Figure size 720x360 with 1 Axes>"
      ]
     },
     "metadata": {},
     "output_type": "display_data"
    }
   ],
   "source": [
    "plt.figure(figsize=(10,5))\n",
    "\n",
    "plt.scatter(poly_data['X1'],poly_data['Y'],label='Actual')\n",
    "#plt.plot(poly_data['X1'],pred_optimal,c='r',label='Optimal prediction(20 samples)')\n",
    "#plt.scatter(poly_data['X1'],pred_old,c='orange',s=12,label='Inital prediction(20 samples)')\n",
    "#plt.scatter(poly_data_new['X1'],pred_new,c='violet',s=10,label='Optimal prediction 100 samples')\n",
    "plt.plot(poly_data['X1'],pred_sklearn,c='Brown',label='Sklearn Prediction(20 samples)')\n",
    "plt.plot(poly_data['X1'],pred_ridge,c='Red',label='Ridge Prediction(20 samples)')\n",
    "\n",
    "\n",
    "plt.legend(bbox_to_anchor=(1.3,0.55))\n",
    "plt.xlabel(\"X1\",fontsize=15,labelpad=12)\n",
    "plt.ylabel(\"Y\",fontsize=15,labelpad=12)\n",
    "plt.title(\"Sklearn Polynomial Regression vs Ridge Regression Plot\".format(deg),fontsize=15,pad=15)\n",
    "plt.show()"
   ]
  },
  {
   "cell_type": "code",
   "execution_count": null,
   "metadata": {},
   "outputs": [],
   "source": []
  }
 ],
 "metadata": {
  "kernelspec": {
   "display_name": "Python 3",
   "language": "python",
   "name": "python3"
  },
  "language_info": {
   "codemirror_mode": {
    "name": "ipython",
    "version": 3
   },
   "file_extension": ".py",
   "mimetype": "text/x-python",
   "name": "python",
   "nbconvert_exporter": "python",
   "pygments_lexer": "ipython3",
   "version": "3.7.3"
  }
 },
 "nbformat": 4,
 "nbformat_minor": 2
}
