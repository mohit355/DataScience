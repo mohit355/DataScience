{
 "cells": [
  {
   "cell_type": "code",
   "execution_count": null,
   "metadata": {
    "id": "8i54-RjMf3DK"
   },
   "outputs": [],
   "source": [
    "import keras\n",
    "from keras.models import Sequential\n",
    "from keras.layers import MaxPooling2D,Flatten,Dense,Conv2D,Activation,Dropout\n",
    "from keras.preprocessing.image import ImageDataGenerator\n",
    "import numpy as np\n",
    "import pandas as pd\n",
    "import tensorflow as tf\n",
    "import matplotlib.pyplot as plt\n",
    "from sklearn.model_selection import train_test_split\n",
    "from PIL import Image\n",
    "from numpy import asarray\n",
    "import cv2\n",
    "from keras.layers.normalization import BatchNormalization\n",
    "import os\n",
    "from tensorflow.keras.losses import sparse_categorical_crossentropy\n",
    "from tensorflow.keras.optimizers import Adam\n",
    "from keras.utils import np_utils\n",
    "from google.colab import drive"
   ]
  },
  {
   "cell_type": "code",
   "execution_count": null,
   "metadata": {
    "colab": {
     "base_uri": "https://localhost:8080/",
     "height": 34
    },
    "id": "HoaGQV_B5lIN",
    "outputId": "eb05df2f-2788-4fde-d399-2284ea6a7b3d"
   },
   "outputs": [
    {
     "name": "stdout",
     "output_type": "stream",
     "text": [
      "Mounted at /content/drive\n"
     ]
    }
   ],
   "source": [
    "drive.mount('/content/drive')"
   ]
  },
  {
   "cell_type": "code",
   "execution_count": null,
   "metadata": {
    "colab": {
     "base_uri": "https://localhost:8080/",
     "height": 34
    },
    "id": "DZAMnznU62Tn",
    "outputId": "e40f0b08-aaae-4275-93a3-d23f0c296cfb"
   },
   "outputs": [
    {
     "name": "stdout",
     "output_type": "stream",
     "text": [
      "model  train  validation\n"
     ]
    }
   ],
   "source": [
    "!ls /content/drive/My\\ Drive/data"
   ]
  },
  {
   "cell_type": "code",
   "execution_count": null,
   "metadata": {
    "id": "DoFuqsDS-C38"
   },
   "outputs": [],
   "source": [
    "## storing images names from specified location\n",
    "target_images=[]\n",
    "train_files=[]\n",
    "for i in range(0,7):\n",
    "  path = \"/content/drive/My Drive/data/train/\"+str(i)\n",
    "  for file in os.listdir(path):\n",
    "      train_files.append(os.path.join(path, file))                \n",
    "      target_images.append(i)"
   ]
  },
  {
   "cell_type": "code",
   "execution_count": null,
   "metadata": {
    "colab": {
     "base_uri": "https://localhost:8080/",
     "height": 34
    },
    "id": "2x6vUBR0BV49",
    "outputId": "ba7975ae-fa5f-4844-e585-bb1cc949c04e"
   },
   "outputs": [
    {
     "data": {
      "text/plain": [
       "4467"
      ]
     },
     "execution_count": 6,
     "metadata": {
      "tags": []
     },
     "output_type": "execute_result"
    }
   ],
   "source": [
    "len(train_files)"
   ]
  },
  {
   "cell_type": "code",
   "execution_count": null,
   "metadata": {
    "id": "hXOvm7c84h4r"
   },
   "outputs": [],
   "source": [
    "## preprocessing of images\n",
    "images=[]\n",
    "for i in train_files: \n",
    "    gray = cv2.imread(i)\n",
    "    gray = cv2.cvtColor(gray, cv2.COLOR_RGB2GRAY)\n",
    "    #gray = cv2.resize(gray,(128,128),Image.ANTIALIAS)\n",
    "    \n",
    "    images.append(gray)"
   ]
  },
  {
   "cell_type": "code",
   "execution_count": null,
   "metadata": {
    "colab": {
     "base_uri": "https://localhost:8080/",
     "height": 34
    },
    "id": "PAIvJCuYCJTm",
    "outputId": "c3aa0376-f7c6-4ce6-9d80-5f41447b0fac"
   },
   "outputs": [
    {
     "data": {
      "text/plain": [
       "((310, 310), 4467)"
      ]
     },
     "execution_count": 8,
     "metadata": {
      "tags": []
     },
     "output_type": "execute_result"
    }
   ],
   "source": [
    "images[0].shape, len(images)"
   ]
  },
  {
   "cell_type": "code",
   "execution_count": null,
   "metadata": {
    "id": "hOx7J3g6DNGm"
   },
   "outputs": [],
   "source": [
    "images=np.array(images)"
   ]
  },
  {
   "cell_type": "code",
   "execution_count": null,
   "metadata": {
    "id": "Eq9YdUUtEDUf"
   },
   "outputs": [],
   "source": [
    "num_images,height,width = images.shape"
   ]
  },
  {
   "cell_type": "code",
   "execution_count": null,
   "metadata": {
    "colab": {
     "base_uri": "https://localhost:8080/",
     "height": 34
    },
    "id": "_EE2SYnyDPdR",
    "outputId": "a754f2fe-370a-4da4-86ed-784197e51914"
   },
   "outputs": [
    {
     "name": "stdout",
     "output_type": "stream",
     "text": [
      "batch_size = 4467, height = 310, width = 310\n"
     ]
    }
   ],
   "source": [
    "print (\"num_images = {}, height = {}, width = {}\".format(batch_size,height,width))"
   ]
  },
  {
   "cell_type": "code",
   "execution_count": null,
   "metadata": {
    "colab": {
     "base_uri": "https://localhost:8080/",
     "height": 34
    },
    "id": "6e0D9BmwDP0-",
    "outputId": "1f6a399b-cc39-4451-8f82-ffb8e1137d19"
   },
   "outputs": [
    {
     "data": {
      "text/plain": [
       "4467"
      ]
     },
     "execution_count": 12,
     "metadata": {
      "tags": []
     },
     "output_type": "execute_result"
    }
   ],
   "source": [
    "len(target_images)"
   ]
  },
  {
   "cell_type": "code",
   "execution_count": null,
   "metadata": {
    "id": "yHHNG2rHDRKl"
   },
   "outputs": [],
   "source": [
    "validation_target_images=[]\n",
    "validation_files=[]\n",
    "for i in range(0,7):\n",
    "  path = \"/content/drive/My Drive/data/validation/\"+str(i)\n",
    "  for file in os.listdir(path):\n",
    "      validation_files.append(os.path.join(path, file))                \n",
    "      validation_target_images.append(i)"
   ]
  },
  {
   "cell_type": "code",
   "execution_count": null,
   "metadata": {
    "id": "uJASnPyvDTIB"
   },
   "outputs": [],
   "source": [
    "validation_images=[]\n",
    "for i in validation_files:\n",
    "    gray = cv2.imread(i)\n",
    "    gray = cv2.cvtColor(gray, cv2.COLOR_RGB2GRAY)\n",
    "    #gray = cv2.resize(gray,(128,128),Image.ANTIALIAS)\n",
    "    \n",
    "    validation_images.append(gray)"
   ]
  },
  {
   "cell_type": "code",
   "execution_count": null,
   "metadata": {
    "id": "qN4jNFkJDrrK"
   },
   "outputs": [],
   "source": [
    "validation_images=np.array(validation_images)"
   ]
  },
  {
   "cell_type": "code",
   "execution_count": null,
   "metadata": {
    "colab": {
     "base_uri": "https://localhost:8080/",
     "height": 34
    },
    "id": "ma3fEV73Ds5C",
    "outputId": "96448209-4ef5-4f17-92f7-bda8a2552954"
   },
   "outputs": [
    {
     "data": {
      "text/plain": [
       "(613, 310, 310)"
      ]
     },
     "execution_count": 16,
     "metadata": {
      "tags": []
     },
     "output_type": "execute_result"
    }
   ],
   "source": [
    "validation_images.shape"
   ]
  },
  {
   "cell_type": "code",
   "execution_count": null,
   "metadata": {
    "colab": {
     "base_uri": "https://localhost:8080/",
     "height": 34
    },
    "id": "oR_D9OM2DuGP",
    "outputId": "5fd03256-0060-4e43-edf0-7f639984292b"
   },
   "outputs": [
    {
     "data": {
      "text/plain": [
       "613"
      ]
     },
     "execution_count": 17,
     "metadata": {
      "tags": []
     },
     "output_type": "execute_result"
    }
   ],
   "source": [
    "len(validation_target_images)"
   ]
  },
  {
   "cell_type": "code",
   "execution_count": null,
   "metadata": {
    "colab": {
     "base_uri": "https://localhost:8080/",
     "height": 327
    },
    "id": "WhQS6JlMDu7C",
    "outputId": "794b7bd2-0fe2-4007-ebf3-d59448c650cc"
   },
   "outputs": [
    {
     "data": {
      "image/png": "[encoded data removed]",
      "text/plain": [
       "<PIL.Image.Image image mode=L size=310x310 at 0x7FF5C98980B8>"
      ]
     },
     "execution_count": 18,
     "metadata": {
      "tags": []
     },
     "output_type": "execute_result"
    }
   ],
   "source": [
    "Image.fromarray(images[1700])"
   ]
  },
  {
   "cell_type": "code",
   "execution_count": null,
   "metadata": {
    "colab": {
     "base_uri": "https://localhost:8080/",
     "height": 34
    },
    "id": "1LkS7AFRDvtx",
    "outputId": "5c4b74d9-51e3-4aa0-fc63-1ec056f02d1b"
   },
   "outputs": [
    {
     "data": {
      "text/plain": [
       "(4467, 310, 310)"
      ]
     },
     "execution_count": 19,
     "metadata": {
      "tags": []
     },
     "output_type": "execute_result"
    }
   ],
   "source": [
    "images.shape"
   ]
  },
  {
   "cell_type": "code",
   "execution_count": null,
   "metadata": {
    "id": "t36r7pL2Dwvh"
   },
   "outputs": [],
   "source": [
    "## reshaping in the form of tensors\n",
    "input_train = images.reshape(images.shape[0],310,310,1)\n",
    "input_validation = validation_images.reshape(validation_images.shape[0],310,310,1)"
   ]
  },
  {
   "cell_type": "code",
   "execution_count": null,
   "metadata": {
    "id": "gmtyy8ruDzC8"
   },
   "outputs": [],
   "source": [
    "input_train = input_train.astype('float32')\n",
    "input_train = input_train / 255"
   ]
  },
  {
   "cell_type": "code",
   "execution_count": null,
   "metadata": {
    "colab": {
     "base_uri": "https://localhost:8080/",
     "height": 34
    },
    "id": "zyP6XgtvD1S_",
    "outputId": "775901b5-02a5-44c0-adec-9a50ee2126f3"
   },
   "outputs": [
    {
     "data": {
      "text/plain": [
       "(4467, 310, 310, 1)"
      ]
     },
     "execution_count": 22,
     "metadata": {
      "tags": []
     },
     "output_type": "execute_result"
    }
   ],
   "source": [
    "input_train.shape"
   ]
  },
  {
   "cell_type": "code",
   "execution_count": null,
   "metadata": {
    "id": "L3Zqj1gwD2US"
   },
   "outputs": [],
   "source": [
    "input_validation = input_validation.astype('float32')\n",
    "input_validation = input_validation / 255"
   ]
  },
  {
   "cell_type": "code",
   "execution_count": null,
   "metadata": {
    "colab": {
     "base_uri": "https://localhost:8080/",
     "height": 34
    },
    "id": "FVnOeB2BD3p8",
    "outputId": "58db091a-01e5-4935-be06-57f85a359df3"
   },
   "outputs": [
    {
     "data": {
      "text/plain": [
       "(613, 310, 310, 1)"
      ]
     },
     "execution_count": 24,
     "metadata": {
      "tags": []
     },
     "output_type": "execute_result"
    }
   ],
   "source": [
    "input_validation.shape"
   ]
  },
  {
   "cell_type": "code",
   "execution_count": null,
   "metadata": {
    "id": "YlSJy7SjJJmX"
   },
   "outputs": [],
   "source": [
    "## model architecture\n",
    "model = Sequential()\n",
    "model.add(BatchNormalization(input_shape = (310,310,1)))\n",
    "model.add(Conv2D(32, (3,3), activation ='relu', input_shape = (310,310, 1))) \n",
    "model.add(MaxPooling2D(pool_size=2))\n",
    "model.add(Conv2D(filters=32,kernel_size=4,padding='same',activation='relu'))\n",
    "model.add(MaxPooling2D(pool_size=2))\n",
    "model.add(Conv2D(filters=128,kernel_size=3,padding='same',activation='relu'))\n",
    "model.add(MaxPooling2D(pool_size=2))\n",
    "model.add(Conv2D(filters=128,kernel_size=3,padding='same',activation='relu'))\n",
    "model.add(MaxPooling2D(pool_size=2))\n",
    "model.add(Conv2D(filters=256,kernel_size=3,padding='same',activation='relu'))\n",
    "model.add(MaxPooling2D(pool_size=2))\n",
    "model.add(Conv2D(filters=256,kernel_size=3,padding='same',activation='relu'))\n",
    "model.add(MaxPooling2D(pool_size=2))\n",
    "model.add(Flatten()) \n",
    "model.add(Dense(units=256,activation = 'relu'))\n",
    "model.add(Dropout(0.2))\n",
    "model.add(Dense(units=128,activation = 'relu'))\n",
    "model.add(Dropout(0.2))\n",
    "model.add(Dense(units = 64, activation = 'relu'))\n",
    "model.add(Dropout(0.2))\n",
    "model.add(Dense(units = 32, activation = 'relu'))\n",
    "model.add(Dropout(0.2))\n",
    "model.add(Dense(units = 7, activation = 'softmax'))"
   ]
  },
  {
   "cell_type": "code",
   "execution_count": null,
   "metadata": {
    "id": "EatLkUB2HM_J"
   },
   "outputs": [],
   "source": [
    "model.compile(optimizer=Adam(),loss='categorical_crossentropy',metrics=['accuracy'])"
   ]
  },
  {
   "cell_type": "code",
   "execution_count": null,
   "metadata": {
    "colab": {
     "base_uri": "https://localhost:8080/",
     "height": 34
    },
    "id": "KDxVZkbSHQ-u",
    "outputId": "91f97758-b106-40ba-e2fa-89aba466173a"
   },
   "outputs": [
    {
     "data": {
      "text/plain": [
       "{0, 1, 2, 3, 4, 5, 6}"
      ]
     },
     "execution_count": 27,
     "metadata": {
      "tags": []
     },
     "output_type": "execute_result"
    }
   ],
   "source": [
    "set(target_images)"
   ]
  },
  {
   "cell_type": "code",
   "execution_count": null,
   "metadata": {
    "id": "pEtPDqF-HR5v"
   },
   "outputs": [],
   "source": [
    "## performs encoding for output variable\n",
    "y_train = np_utils.to_categorical(target_images,7)\n",
    "y_valid = np_utils.to_categorical(validation_target_images,7)\n",
    "x_train = input_train\n",
    "x_valid = input_validation"
   ]
  },
  {
   "cell_type": "code",
   "execution_count": null,
   "metadata": {
    "colab": {
     "base_uri": "https://localhost:8080/",
     "height": 34
    },
    "id": "g7IGmm-_HS-o",
    "outputId": "bc11cb9f-2c2d-4729-cf9f-22b8017b2901"
   },
   "outputs": [
    {
     "data": {
      "text/plain": [
       "((613, 310, 310, 1), (613, 7), (4467, 310, 310, 1), (4467, 7))"
      ]
     },
     "execution_count": 29,
     "metadata": {
      "tags": []
     },
     "output_type": "execute_result"
    }
   ],
   "source": [
    "x_valid.shape,y_valid.shape,x_train.shape,y_train.shape"
   ]
  },
  {
   "cell_type": "code",
   "execution_count": null,
   "metadata": {
    "id": "_31BvQLXHUL_"
   },
   "outputs": [],
   "source": [
    "## using image data generators to avoid overfitting\n",
    "gen = ImageDataGenerator(shear_range=0.2,\n",
    "        zoom_range=0.2,\n",
    "        horizontal_flip=True)\n",
    "test_gen = ImageDataGenerator()"
   ]
  },
  {
   "cell_type": "code",
   "execution_count": null,
   "metadata": {
    "id": "jWGGAGmcHVqN"
   },
   "outputs": [],
   "source": [
    "train_generator = gen.flow(x_train, y_train, batch_size=10)\n",
    "valid_generator = test_gen.flow(x_valid, y_valid, batch_size=10)"
   ]
  },
  {
   "cell_type": "code",
   "execution_count": null,
   "metadata": {
    "colab": {
     "base_uri": "https://localhost:8080/",
     "height": 1000
    },
    "id": "rEM39pvhHYsA",
    "outputId": "72a4305e-550d-4fdf-b8cd-cf296ad664b3"
   },
   "outputs": [
    {
     "name": "stdout",
     "output_type": "stream",
     "text": [
      "WARNING:tensorflow:From <ipython-input-32-162b1b36d9c8>:2: Model.fit_generator (from tensorflow.python.keras.engine.training) is deprecated and will be removed in a future version.\n",
      "Instructions for updating:\n",
      "Please use Model.fit, which supports generators.\n",
      "Epoch 1/50\n",
      "  2/446 [..............................] - ETA: 12s - loss: 1.9297 - accuracy: 0.2000WARNING:tensorflow:Callbacks method `on_train_batch_end` is slow compared to the batch time (batch time: 0.0220s vs `on_train_batch_end` time: 0.0341s). Check your callbacks.\n",
      "446/446 [==============================] - 38s 84ms/step - loss: 1.8074 - accuracy: 0.1905 - val_loss: 1.8856 - val_accuracy: 0.1754\n",
      "Epoch 2/50\n",
      "446/446 [==============================] - 37s 83ms/step - loss: 1.7459 - accuracy: 0.1914 - val_loss: 1.9629 - val_accuracy: 0.1820\n",
      "Epoch 3/50\n",
      "446/446 [==============================] - 37s 83ms/step - loss: 1.7157 - accuracy: 0.1936 - val_loss: 1.8949 - val_accuracy: 0.1738\n",
      "Epoch 4/50\n",
      "446/446 [==============================] - 38s 84ms/step - loss: 1.7011 - accuracy: 0.2060 - val_loss: 1.9030 - val_accuracy: 0.1803\n",
      "Epoch 5/50\n",
      "446/446 [==============================] - 38s 85ms/step - loss: 1.6713 - accuracy: 0.2318 - val_loss: 1.9673 - val_accuracy: 0.2115\n",
      "Epoch 6/50\n",
      "446/446 [==============================] - 37s 84ms/step - loss: 1.6378 - accuracy: 0.2751 - val_loss: 1.6519 - val_accuracy: 0.3426\n",
      "Epoch 7/50\n",
      "446/446 [==============================] - 38s 84ms/step - loss: 1.4837 - accuracy: 0.3662 - val_loss: 1.5472 - val_accuracy: 0.3918\n",
      "Epoch 8/50\n",
      "446/446 [==============================] - 38s 84ms/step - loss: 1.3537 - accuracy: 0.4117 - val_loss: 1.4807 - val_accuracy: 0.4557\n",
      "Epoch 9/50\n",
      "446/446 [==============================] - 37s 84ms/step - loss: 1.2305 - accuracy: 0.4718 - val_loss: 1.1653 - val_accuracy: 0.5557\n",
      "Epoch 10/50\n",
      "446/446 [==============================] - 37s 84ms/step - loss: 1.1219 - accuracy: 0.5266 - val_loss: 1.0697 - val_accuracy: 0.6180\n",
      "Epoch 11/50\n",
      "446/446 [==============================] - 38s 84ms/step - loss: 1.0029 - accuracy: 0.5773 - val_loss: 1.1102 - val_accuracy: 0.6033\n",
      "Epoch 12/50\n",
      "446/446 [==============================] - 37s 84ms/step - loss: 0.8985 - accuracy: 0.6318 - val_loss: 0.8210 - val_accuracy: 0.7082\n",
      "Epoch 13/50\n",
      "446/446 [==============================] - 37s 83ms/step - loss: 0.8210 - accuracy: 0.6742 - val_loss: 0.6651 - val_accuracy: 0.7770\n",
      "Epoch 14/50\n",
      "446/446 [==============================] - 38s 86ms/step - loss: 0.7507 - accuracy: 0.7032 - val_loss: 0.6722 - val_accuracy: 0.7443\n",
      "Epoch 15/50\n",
      "446/446 [==============================] - 39s 88ms/step - loss: 0.6678 - accuracy: 0.7337 - val_loss: 0.6043 - val_accuracy: 0.7738\n",
      "Epoch 16/50\n",
      "446/446 [==============================] - 40s 89ms/step - loss: 0.6058 - accuracy: 0.7628 - val_loss: 0.9593 - val_accuracy: 0.8033\n",
      "Epoch 17/50\n",
      "446/446 [==============================] - 39s 87ms/step - loss: 0.5886 - accuracy: 0.7759 - val_loss: 0.5733 - val_accuracy: 0.8066\n",
      "Epoch 18/50\n",
      "446/446 [==============================] - 38s 85ms/step - loss: 0.5194 - accuracy: 0.8111 - val_loss: 0.8409 - val_accuracy: 0.7770\n",
      "Epoch 19/50\n",
      "446/446 [==============================] - 38s 85ms/step - loss: 0.5116 - accuracy: 0.8084 - val_loss: 0.7953 - val_accuracy: 0.7902\n",
      "Epoch 20/50\n",
      "446/446 [==============================] - 38s 85ms/step - loss: 0.4715 - accuracy: 0.8232 - val_loss: 0.7305 - val_accuracy: 0.8098\n",
      "Epoch 21/50\n",
      "446/446 [==============================] - 38s 85ms/step - loss: 0.4220 - accuracy: 0.8387 - val_loss: 0.6630 - val_accuracy: 0.8525\n",
      "Epoch 22/50\n",
      "446/446 [==============================] - 37s 84ms/step - loss: 0.4224 - accuracy: 0.8472 - val_loss: 0.4884 - val_accuracy: 0.8426\n",
      "Epoch 23/50\n",
      "446/446 [==============================] - 37s 84ms/step - loss: 0.3940 - accuracy: 0.8553 - val_loss: 0.5833 - val_accuracy: 0.8557\n",
      "Epoch 24/50\n",
      "446/446 [==============================] - 37s 84ms/step - loss: 0.3712 - accuracy: 0.8643 - val_loss: 0.5162 - val_accuracy: 0.8279\n",
      "Epoch 25/50\n",
      "446/446 [==============================] - 38s 84ms/step - loss: 0.3707 - accuracy: 0.8616 - val_loss: 0.4922 - val_accuracy: 0.8721\n",
      "Epoch 26/50\n",
      "446/446 [==============================] - 37s 84ms/step - loss: 0.3750 - accuracy: 0.8616 - val_loss: 0.6224 - val_accuracy: 0.8672\n",
      "Epoch 27/50\n",
      "446/446 [==============================] - 38s 85ms/step - loss: 0.3446 - accuracy: 0.8815 - val_loss: 0.6219 - val_accuracy: 0.8197\n",
      "Epoch 28/50\n",
      "446/446 [==============================] - 38s 84ms/step - loss: 0.3313 - accuracy: 0.8894 - val_loss: 0.8991 - val_accuracy: 0.7836\n",
      "Epoch 29/50\n",
      "446/446 [==============================] - 38s 85ms/step - loss: 0.3322 - accuracy: 0.8836 - val_loss: 0.6333 - val_accuracy: 0.8344\n",
      "Epoch 30/50\n",
      "446/446 [==============================] - 38s 85ms/step - loss: 0.2977 - accuracy: 0.8914 - val_loss: 0.6445 - val_accuracy: 0.8770\n",
      "Epoch 31/50\n",
      "446/446 [==============================] - 38s 85ms/step - loss: 0.2933 - accuracy: 0.8999 - val_loss: 0.4913 - val_accuracy: 0.8623\n",
      "Epoch 32/50\n",
      "446/446 [==============================] - 38s 84ms/step - loss: 0.3221 - accuracy: 0.8939 - val_loss: 0.8913 - val_accuracy: 0.8230\n",
      "Epoch 33/50\n",
      "446/446 [==============================] - 38s 85ms/step - loss: 0.2890 - accuracy: 0.9037 - val_loss: 1.2078 - val_accuracy: 0.7607\n",
      "Epoch 34/50\n",
      "446/446 [==============================] - 37s 84ms/step - loss: 0.2842 - accuracy: 0.9046 - val_loss: 0.6702 - val_accuracy: 0.8656\n",
      "Epoch 35/50\n",
      "446/446 [==============================] - 37s 84ms/step - loss: 0.2605 - accuracy: 0.9094 - val_loss: 0.7975 - val_accuracy: 0.8541\n",
      "Epoch 36/50\n",
      "446/446 [==============================] - 38s 84ms/step - loss: 0.2595 - accuracy: 0.9138 - val_loss: 0.5880 - val_accuracy: 0.8607\n",
      "Epoch 37/50\n",
      "446/446 [==============================] - 38s 84ms/step - loss: 0.2512 - accuracy: 0.9168 - val_loss: 0.5920 - val_accuracy: 0.8803\n",
      "Epoch 38/50\n",
      "446/446 [==============================] - 38s 85ms/step - loss: 0.2445 - accuracy: 0.9163 - val_loss: 0.7809 - val_accuracy: 0.8377\n",
      "Epoch 39/50\n",
      "446/446 [==============================] - 38s 85ms/step - loss: 0.2170 - accuracy: 0.9244 - val_loss: 0.6727 - val_accuracy: 0.8754\n",
      "Epoch 40/50\n",
      "446/446 [==============================] - 38s 85ms/step - loss: 0.2046 - accuracy: 0.9275 - val_loss: 0.6298 - val_accuracy: 0.8869\n",
      "Epoch 41/50\n",
      "446/446 [==============================] - 38s 86ms/step - loss: 0.2451 - accuracy: 0.9156 - val_loss: 0.7573 - val_accuracy: 0.8590\n",
      "Epoch 42/50\n",
      "446/446 [==============================] - 38s 86ms/step - loss: 0.2017 - accuracy: 0.9289 - val_loss: 0.7983 - val_accuracy: 0.8705\n",
      "Epoch 43/50\n",
      "446/446 [==============================] - 38s 85ms/step - loss: 0.2057 - accuracy: 0.9363 - val_loss: 0.6341 - val_accuracy: 0.9049\n",
      "Epoch 44/50\n",
      "446/446 [==============================] - 38s 85ms/step - loss: 0.2151 - accuracy: 0.9291 - val_loss: 0.6825 - val_accuracy: 0.8738\n",
      "Epoch 45/50\n",
      "446/446 [==============================] - 38s 85ms/step - loss: 0.1804 - accuracy: 0.9374 - val_loss: 0.8518 - val_accuracy: 0.8885\n",
      "Epoch 46/50\n",
      "446/446 [==============================] - 38s 85ms/step - loss: 0.2077 - accuracy: 0.9298 - val_loss: 0.6403 - val_accuracy: 0.8787\n",
      "Epoch 47/50\n",
      "446/446 [==============================] - 38s 85ms/step - loss: 0.2345 - accuracy: 0.9251 - val_loss: 0.6987 - val_accuracy: 0.8607\n",
      "Epoch 48/50\n",
      "446/446 [==============================] - 38s 85ms/step - loss: 0.2138 - accuracy: 0.9307 - val_loss: 0.5690 - val_accuracy: 0.8902\n",
      "Epoch 49/50\n",
      "446/446 [==============================] - 37s 84ms/step - loss: 0.1830 - accuracy: 0.9401 - val_loss: 0.8841 - val_accuracy: 0.8541\n",
      "Epoch 50/50\n",
      "446/446 [==============================] - 38s 84ms/step - loss: 0.2194 - accuracy: 0.9280 - val_loss: 0.8898 - val_accuracy: 0.8803\n"
     ]
    }
   ],
   "source": [
    "history = model.fit_generator(train_generator,steps_per_epoch=4467//10,epochs=50,validation_data=valid_generator,\n",
    "                             validation_steps=613//10)"
   ]
  },
  {
   "cell_type": "code",
   "execution_count": null,
   "metadata": {
    "colab": {
     "base_uri": "https://localhost:8080/",
     "height": 324
    },
    "id": "SgzZbmFLQsOQ",
    "outputId": "b9ca2af3-72ac-4ce0-9cb2-2a8864fd08ef"
   },
   "outputs": [
    {
     "data": {
      "image/png": "[encoded data removed]",
      "text/plain": [
       "<Figure size 576x360 with 1 Axes>"
      ]
     },
     "metadata": {
      "needs_background": "light",
      "tags": []
     },
     "output_type": "display_data"
    }
   ],
   "source": [
    "import pandas as pd\n",
    "import matplotlib.pyplot as plt\n",
    "\n",
    "pd.DataFrame(history.history).plot(figsize=(8, 5))\n",
    "plt.grid(True)\n",
    "plt.gca().set_ylim(0, 1)\n",
    "plt.x_label(\"Epochs\")\n",
    "plt.y_label(\"Performance\")\n",
    "plt.show()"
   ]
  },
  {
   "cell_type": "code",
   "execution_count": null,
   "metadata": {
    "id": "fVNHQYtBIOZo"
   },
   "outputs": [],
   "source": [
    "## saving the model\n",
    "model_json = model.to_json()\n",
    "with open('/content/drive/My Drive/data/model/detector_12.json','w') as json_file:\n",
    "    json_file.write(model_json)\n",
    "model.save_weights('/content/drive/My Drive/detector_12.h5')"
   ]
  },
  {
   "cell_type": "code",
   "execution_count": null,
   "metadata": {},
   "outputs": [],
   "source": []
  }
 ],
 "metadata": {
  "accelerator": "GPU",
  "colab": {
   "collapsed_sections": [],
   "name": "cricket_training.ipynb",
   "provenance": []
  },
  "kernelspec": {
   "display_name": "Python 3",
   "language": "python",
   "name": "python3"
  },
  "language_info": {
   "codemirror_mode": {
    "name": "ipython",
    "version": 3
   },
   "file_extension": ".py",
   "mimetype": "text/x-python",
   "name": "python",
   "nbconvert_exporter": "python",
   "pygments_lexer": "ipython3",
   "version": "3.7.3"
  }
 },
 "nbformat": 4,
 "nbformat_minor": 1
}
