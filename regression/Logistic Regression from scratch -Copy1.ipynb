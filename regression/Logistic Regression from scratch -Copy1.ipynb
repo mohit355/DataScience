{
 "cells": [
  {
   "cell_type": "code",
   "execution_count": 62,
   "metadata": {},
   "outputs": [],
   "source": [
    "import matplotlib.pyplot as plt\n",
    "# ^^^ pyforest auto-imports - don't write above this line\n",
    "import numpy as np\n",
    "import pandas as pd\n",
    "import seaborn as sns"
   ]
  },
  {
   "cell_type": "code",
   "execution_count": 63,
   "metadata": {},
   "outputs": [],
   "source": [
    "sns.set_style(\"whitegrid\")"
   ]
  },
  {
   "cell_type": "raw",
   "metadata": {},
   "source": [
    "def sigmoid(x,theta):\n",
    "    #y_pred = np.dot(x,theta.T)\n",
    "    y_pred = x @ theta.T\n",
    "    #y_pred = theta[0] + theta[1]*x['radius_mean']\n",
    "    #y_pred = np.array([np.dot(i,theta) for i in x])\n",
    "    return (1/(1+np.exp(-y_pred)))\n",
    "    #return y_pred"
   ]
  },
  {
   "cell_type": "code",
   "execution_count": 64,
   "metadata": {},
   "outputs": [],
   "source": [
    "def sigmoid(x,theta):\n",
    "    y_pred = np.dot(x,theta.T)\n",
    "    #y_pred = np.array([np.dot(i,theta) for i in x])\n",
    "    return (1/(1+np.exp(-y_pred)))"
   ]
  },
  {
   "cell_type": "code",
   "execution_count": 65,
   "metadata": {},
   "outputs": [],
   "source": [
    "def cost_logistic(theta):\n",
    "    cost = np.dot( y , np.log(sigmoid(x,theta)) ) + np.dot((1-y) , np.log( 1 - sigmoid(x,theta)) ) \n",
    "    return((-1/m)*cost)"
   ]
  },
  {
   "cell_type": "code",
   "execution_count": 66,
   "metadata": {},
   "outputs": [],
   "source": [
    "def gradient(diff,x_attribute):\n",
    "    ## diff = sigmoid(x,theta) - y\n",
    "    tot_gradient = np.dot(diff , x_attribute)\n",
    "    return((1/m)*tot_gradient)"
   ]
  },
  {
   "cell_type": "code",
   "execution_count": 92,
   "metadata": {},
   "outputs": [],
   "source": [
    "def gradient_descent(theta):\n",
    "    parameter_list = []\n",
    "    theta_0 = theta[0]\n",
    "    theta_1 = theta[1]\n",
    "    #diff = sigmoid(x,theta) - y\n",
    "    lr = 0.01\n",
    "    n_iters = 26000\n",
    "    loss_list = []\n",
    "    cost = cost_logistic(theta)\n",
    "    #loss_list.append(cost)\n",
    "    i=0\n",
    "    #old = cost\n",
    "    #for i in range(n_iters):\n",
    "    while(1):\n",
    "        parameter_list.append(theta)\n",
    "        \n",
    "        old=cost    \n",
    "        loss_list.append(cost)\n",
    "        diff = (sigmoid(x,theta)) - y\n",
    "        theta_0 = theta_0 - lr * gradient(diff,x['x_0'])\n",
    "        theta_1 = theta_1 - lr * gradient(diff,x['radius_mean'])\n",
    "        theta = np.array([theta_0,theta_1])\n",
    "        #predd = sigmoid(x,np.array(theta))\n",
    "        #plt.scatter(x['radius_mean'],y)\n",
    "        #plt.scatter(x['radius_mean'],predd,s=10,c=\"red\")\n",
    "        #plt.scatter(x['radius_mean'],pred_ideal,s=5,c='g')\n",
    "        #plt.show()\n",
    "        \n",
    "        cost = cost_logistic(theta)\n",
    "        \n",
    "        i+=1\n",
    "        if(old-cost<0.000001):\n",
    "            #break\n",
    "            return theta,loss_list,parameter_list\n",
    "    #return theta,loss_list"
   ]
  },
  {
   "cell_type": "code",
   "execution_count": 80,
   "metadata": {},
   "outputs": [],
   "source": [
    "def gradient_descent(theta):\n",
    "    parameter_list = []\n",
    "    theta_0 = theta[0]\n",
    "    theta_1 = theta[1]\n",
    "    #diff = sigmoid(x,theta) - y\n",
    "    lr = 0.01\n",
    "    n_iters = 26000\n",
    "    loss_list = []\n",
    "    cost = cost_logistic(theta)\n",
    "    #loss_list.append(cost)\n",
    "    i=0\n",
    "    #old = cost\n",
    "    for i in range(n_iters):\n",
    "    #while(1):\n",
    "        parameter_list.append(theta)\n",
    "        old=cost    \n",
    "        loss_list.append(cost)\n",
    "        diff = (sigmoid(x,theta)) - y\n",
    "        theta_0 = theta_0 - lr * gradient(diff,x['x_0'])\n",
    "        theta_1 = theta_1 - lr * gradient(diff,x['radius_mean'])\n",
    "        theta = np.array([theta_0,theta_1])\n",
    "        \n",
    "        cost = cost_logistic(theta)\n",
    "        \n",
    "        #i+=1\n",
    "       # if(old-cost<0.000001):\n",
    "            #break\n",
    "        #    return theta,loss_list\n",
    "    return theta,loss_list,parameter_list"
   ]
  },
  {
   "cell_type": "markdown",
   "metadata": {},
   "source": [
    "#### Dataset read"
   ]
  },
  {
   "cell_type": "code",
   "execution_count": 69,
   "metadata": {},
   "outputs": [],
   "source": [
    "data = pd.read_csv(r\"C:/Users/Shivam/Desktop/datasets_180_408_data.csv\")"
   ]
  },
  {
   "cell_type": "code",
   "execution_count": 70,
   "metadata": {},
   "outputs": [],
   "source": [
    "x = data['radius_mean']\n",
    "y = data['diagnosis']"
   ]
  },
  {
   "cell_type": "code",
   "execution_count": 71,
   "metadata": {},
   "outputs": [
    {
     "name": "stderr",
     "output_type": "stream",
     "text": [
      "C:\\Users\\Shivam\\AppData\\Local\\Continuum\\anaconda3\\lib\\site-packages\\ipykernel_launcher.py:6: SettingWithCopyWarning: \n",
      "A value is trying to be set on a copy of a slice from a DataFrame\n",
      "\n",
      "See the caveats in the documentation: https://pandas.pydata.org/pandas-docs/stable/user_guide/indexing.html#returning-a-view-versus-a-copy\n",
      "  \n",
      "C:\\Users\\Shivam\\AppData\\Local\\Continuum\\anaconda3\\lib\\site-packages\\ipykernel_launcher.py:4: SettingWithCopyWarning: \n",
      "A value is trying to be set on a copy of a slice from a DataFrame\n",
      "\n",
      "See the caveats in the documentation: https://pandas.pydata.org/pandas-docs/stable/user_guide/indexing.html#returning-a-view-versus-a-copy\n",
      "  after removing the cwd from sys.path.\n"
     ]
    }
   ],
   "source": [
    "m = len(x)\n",
    "for i in range(len(y)):\n",
    "    if y[i] == 'B':\n",
    "        y[i] = 0\n",
    "    else:\n",
    "        y[i] = 1\n",
    "y = y.astype(\"int64\")"
   ]
  },
  {
   "cell_type": "code",
   "execution_count": 72,
   "metadata": {},
   "outputs": [],
   "source": [
    "x = pd.DataFrame(x,columns=['x_0','radius_mean'])\n",
    "x['x_0'] = 1"
   ]
  },
  {
   "cell_type": "markdown",
   "metadata": {},
   "source": [
    "#### Optimum theta values"
   ]
  },
  {
   "cell_type": "code",
   "execution_count": 14,
   "metadata": {
    "scrolled": true
   },
   "outputs": [
    {
     "data": {
      "text/plain": [
       "0.536847421372576"
      ]
     },
     "execution_count": 14,
     "metadata": {},
     "output_type": "execute_result"
    }
   ],
   "source": [
    "cost_logistic(np.array([-8.19393897,0.54291739]))   ### optimal values of theta when not scaled"
   ]
  },
  {
   "cell_type": "code",
   "execution_count": 76,
   "metadata": {},
   "outputs": [
    {
     "data": {
      "text/plain": [
       "0.31173299455689557"
      ]
     },
     "execution_count": 76,
     "metadata": {},
     "output_type": "execute_result"
    }
   ],
   "source": [
    "cost_logistic(np.array([-0.6308762,3.3192202]))    ### optimal values of theta when scaled"
   ]
  },
  {
   "cell_type": "code",
   "execution_count": 942,
   "metadata": {},
   "outputs": [],
   "source": [
    "pred_ideal = sigmoid(x,np.array([-8.19393897,0.54291739]))"
   ]
  },
  {
   "cell_type": "code",
   "execution_count": 77,
   "metadata": {},
   "outputs": [],
   "source": [
    "pred_ideal = sigmoid(x,np.array([-0.6308762,3.3192202]))"
   ]
  },
  {
   "cell_type": "markdown",
   "metadata": {},
   "source": [
    "#### Feature scaling"
   ]
  },
  {
   "cell_type": "code",
   "execution_count": 73,
   "metadata": {},
   "outputs": [],
   "source": [
    "from sklearn.preprocessing import StandardScaler"
   ]
  },
  {
   "cell_type": "code",
   "execution_count": 74,
   "metadata": {},
   "outputs": [],
   "source": [
    "scaler = StandardScaler()"
   ]
  },
  {
   "cell_type": "code",
   "execution_count": 75,
   "metadata": {},
   "outputs": [],
   "source": [
    "x = pd.DataFrame(scaler.fit_transform(x),columns=x.columns)"
   ]
  },
  {
   "cell_type": "markdown",
   "metadata": {},
   "source": [
    "#### main function  4.4 2.3"
   ]
  },
  {
   "cell_type": "code",
   "execution_count": 93,
   "metadata": {},
   "outputs": [],
   "source": [
    "theta = np.array([8.4, 23.0])"
   ]
  },
  {
   "cell_type": "code",
   "execution_count": 94,
   "metadata": {
    "scrolled": true
   },
   "outputs": [
    {
     "name": "stderr",
     "output_type": "stream",
     "text": [
      "C:\\Users\\Shivam\\AppData\\Local\\Continuum\\anaconda3\\lib\\site-packages\\ipykernel_launcher.py:2: RuntimeWarning: divide by zero encountered in log\n",
      "  \n"
     ]
    }
   ],
   "source": [
    "theta_hat,loss_list,parameter_list = gradient_descent(np.array(theta))"
   ]
  },
  {
   "cell_type": "code",
   "execution_count": 95,
   "metadata": {},
   "outputs": [
    {
     "data": {
      "text/plain": [
       "(1.0001882646548665e-06, 1.0005948256064379e-06)"
      ]
     },
     "execution_count": 95,
     "metadata": {},
     "output_type": "execute_result"
    }
   ],
   "source": [
    "loss_list[-2]-loss_list[-1],loss_list[-4]-loss_list[-3]"
   ]
  },
  {
   "cell_type": "code",
   "execution_count": 96,
   "metadata": {},
   "outputs": [
    {
     "data": {
      "text/plain": [
       "0.313280468251798"
      ]
     },
     "execution_count": 96,
     "metadata": {},
     "output_type": "execute_result"
    }
   ],
   "source": [
    "loss_list[-1]"
   ]
  },
  {
   "cell_type": "markdown",
   "metadata": {
    "scrolled": true
   },
   "source": [
    "loss_list"
   ]
  },
  {
   "cell_type": "code",
   "execution_count": 98,
   "metadata": {},
   "outputs": [
    {
     "data": {
      "text/plain": [
       "(array([8.4       , 4.65427692]), (array([-0.6308762]), array([[3.3192202]])))"
      ]
     },
     "execution_count": 98,
     "metadata": {},
     "output_type": "execute_result"
    }
   ],
   "source": [
    "theta_hat,(logistic.intercept_,logistic.coef_)"
   ]
  },
  {
   "cell_type": "code",
   "execution_count": 99,
   "metadata": {},
   "outputs": [
    {
     "data": {
      "text/plain": [
       "array([ 8.4, 23. ])"
      ]
     },
     "execution_count": 99,
     "metadata": {},
     "output_type": "execute_result"
    }
   ],
   "source": [
    "theta"
   ]
  },
  {
   "cell_type": "markdown",
   "metadata": {},
   "source": [
    "parameter_list"
   ]
  },
  {
   "cell_type": "markdown",
   "metadata": {},
   "source": [
    "ideal case : [-8.19393897,0.54291739] , cost = 0.3297630187050258 , accuracy = 0.8857644991212654\n",
    "\n",
    "theta : [0.9, 0.7] , iterations = 26000 , cost = 0.3297630187050258 , cost_diff_last_two_points= 2.0178545605542553e-06 , lr = 0.01 , theta_hat = [-8.2538008 ,  0.54704487] , accuracy = 0.8857644991212654\n",
    "\n",
    "theta : [0.9, 0.7] , terminating condition = old-cost<0.000001 , theta_hat = [-9.52197535,  0.63472617] , lr = 0.01          cost = 0.3136376736721564 , accuracy = 0.8892794376098418\n",
    "\n",
    "theta : [4.5, 8.2] , iterations = 26000 , cost = 0.33468769859271474 , cost_diff_last_two_points = 2.472443512924194e-06 , lr = 0.01 , theta_hat = [-7.86793517,  0.52044936] , accuracy = 0.8857644991212654\n",
    "\n",
    "theta : [4.5, 8.2] , terminating condition = old-cost<0.000001 , theta_hat = [-9.5220065 ,  0.63472832] , lr = 0.01 ,        cost : 0.3136373613705443 , accuracy = 0.8892794376098418"
   ]
  },
  {
   "cell_type": "code",
   "execution_count": 101,
   "metadata": {},
   "outputs": [],
   "source": [
    "pred = sigmoid(x,np.array(theta_hat))"
   ]
  },
  {
   "cell_type": "code",
   "execution_count": 102,
   "metadata": {
    "scrolled": false
   },
   "outputs": [
    {
     "data": {
      "image/png": "[encoded data removed]",
      "text/plain": [
       "<Figure size 576x360 with 1 Axes>"
      ]
     },
     "metadata": {},
     "output_type": "display_data"
    }
   ],
   "source": [
    "plt.figure(figsize=(8,5))\n",
    "plt.scatter(x['radius_mean'],y)\n",
    "plt.scatter(x['radius_mean'],pred,s=10,c=\"red\")\n",
    "plt.scatter(x['radius_mean'],pred_ideal,s=5,c='g')\n",
    "plt.xlabel(\"Radius Mean\",fontsize = 20,labelpad=15)\n",
    "plt.ylabel(\"Probability\",fontsize = 20, labelpad=15)\n",
    "plt.title(\"Logistic Regression Plot\",fontsize=20, pad=12)\n",
    "plt.xticks(size=12)\n",
    "plt.yticks(size=12)\n",
    "plt.legend(['Actual Points','Predicted Points','Ideal Logistic Curve'],loc='right',fontsize=12)\n",
    "plt.show()"
   ]
  },
  {
   "cell_type": "code",
   "execution_count": 32,
   "metadata": {},
   "outputs": [
    {
     "data": {
      "text/plain": [
       "array([1, 0], dtype=int64)"
      ]
     },
     "execution_count": 32,
     "metadata": {},
     "output_type": "execute_result"
    }
   ],
   "source": [
    "y.unique()"
   ]
  },
  {
   "cell_type": "markdown",
   "metadata": {},
   "source": [
    "list(zip(pred,y,pred_ideal))"
   ]
  },
  {
   "cell_type": "code",
   "execution_count": 34,
   "metadata": {},
   "outputs": [],
   "source": [
    "for i in range(m):\n",
    "    if(pred[i]>=0.5):\n",
    "        pred[i] = 1\n",
    "    else:\n",
    "        pred[i] = 0"
   ]
  },
  {
   "cell_type": "code",
   "execution_count": 1047,
   "metadata": {},
   "outputs": [],
   "source": [
    "for i in range(m):\n",
    "    if(pred_ideal[i]>=0.5):\n",
    "        pred_ideal[i] = 1\n",
    "    else:\n",
    "        pred_ideal[i] = 0"
   ]
  },
  {
   "cell_type": "code",
   "execution_count": 35,
   "metadata": {
    "scrolled": false
   },
   "outputs": [
    {
     "data": {
      "image/png": "[encoded data removed]",
      "text/plain": [
       "<Figure size 576x360 with 1 Axes>"
      ]
     },
     "metadata": {},
     "output_type": "display_data"
    }
   ],
   "source": [
    "plt.figure(figsize=(8,5))\n",
    "plt.scatter(x['radius_mean'],y)\n",
    "plt.scatter(x['radius_mean'],pred,s=10,c=\"red\")\n",
    "plt.scatter(x['radius_mean'],pred_ideal,s=2,c='y')\n",
    "plt.xlabel(\"Scaled Radius Mean\",fontsize = 20,labelpad=15)\n",
    "plt.ylabel(\"Probability\",fontsize = 20, labelpad=15)\n",
    "plt.title(\"Scaled Logistic Regression Plot\",fontsize=20, pad=12)\n",
    "plt.xticks(size=12)\n",
    "plt.yticks(size=12)\n",
    "plt.legend(['Actual Points','Predicted Points','Ideal Logistic Curve'],loc='right',fontsize=12)\n",
    "plt.show()"
   ]
  },
  {
   "cell_type": "code",
   "execution_count": 36,
   "metadata": {},
   "outputs": [
    {
     "data": {
      "text/plain": [
       "0.8629173989455184"
      ]
     },
     "execution_count": 36,
     "metadata": {},
     "output_type": "execute_result"
    }
   ],
   "source": [
    "from sklearn.metrics import accuracy_score\n",
    "accuracy_score(pred,y)"
   ]
  },
  {
   "cell_type": "markdown",
   "metadata": {},
   "source": [
    "0.8629173989455184"
   ]
  },
  {
   "cell_type": "code",
   "execution_count": 37,
   "metadata": {},
   "outputs": [
    {
     "data": {
      "image/png": "[encoded data removed]",
      "text/plain": [
       "<Figure size 504x360 with 1 Axes>"
      ]
     },
     "metadata": {},
     "output_type": "display_data"
    }
   ],
   "source": [
    "plt.figure(figsize=(7,5))\n",
    "plt.plot(loss_list)\n",
    "plt.xlabel(\"Iterations\",fontsize = 20,labelpad=15)\n",
    "plt.ylabel(\"Cost\",fontsize = 20, labelpad=15)\n",
    "plt.title(\"Loss Function\",fontsize=20, pad=12)\n",
    "plt.xticks(size=12)\n",
    "plt.yticks(size=12)\n",
    "plt.legend(['Cost value'],loc='right',fontsize=12)\n",
    "plt.show()"
   ]
  },
  {
   "cell_type": "code",
   "execution_count": 38,
   "metadata": {},
   "outputs": [
    {
     "data": {
      "image/png": "[encoded data removed]",
      "text/plain": [
       "<Figure size 576x360 with 1 Axes>"
      ]
     },
     "metadata": {},
     "output_type": "display_data"
    }
   ],
   "source": [
    "plt.figure(figsize=(8,5))\n",
    "sns.distplot(loss_list,kde=False,bins=300)\n",
    "plt.show()"
   ]
  },
  {
   "cell_type": "code",
   "execution_count": 39,
   "metadata": {},
   "outputs": [],
   "source": [
    "theta1 = [parameter_list[i][1] for i in range(len(parameter_list))]"
   ]
  },
  {
   "cell_type": "markdown",
   "metadata": {},
   "source": [
    "#### when gradient descent is terminated on the basis of cost condition , this had around 7000 iterations"
   ]
  },
  {
   "cell_type": "code",
   "execution_count": 40,
   "metadata": {
    "scrolled": true
   },
   "outputs": [
    {
     "data": {
      "image/png": "[encoded data removed]",
      "text/plain": [
       "<Figure size 576x360 with 1 Axes>"
      ]
     },
     "metadata": {},
     "output_type": "display_data"
    }
   ],
   "source": [
    "plt.figure(figsize=(8,5))\n",
    "plt.plot(theta1,loss_list)\n",
    "plt.show()"
   ]
  },
  {
   "cell_type": "code",
   "execution_count": 41,
   "metadata": {
    "scrolled": true
   },
   "outputs": [
    {
     "data": {
      "text/plain": [
       "4962"
      ]
     },
     "execution_count": 41,
     "metadata": {},
     "output_type": "execute_result"
    }
   ],
   "source": [
    "len(loss_list)"
   ]
  },
  {
   "cell_type": "markdown",
   "metadata": {},
   "source": [
    "#### when 26000 iterations cost goes little more deeper"
   ]
  },
  {
   "cell_type": "code",
   "execution_count": 1006,
   "metadata": {},
   "outputs": [
    {
     "data": {
      "image/png": "[encoded data removed]",
      "text/plain": [
       "<Figure size 576x360 with 1 Axes>"
      ]
     },
     "metadata": {},
     "output_type": "display_data"
    }
   ],
   "source": [
    "plt.figure(figsize=(8,5))\n",
    "plt.plot(theta1,loss_list)\n",
    "plt.show()"
   ]
  },
  {
   "cell_type": "code",
   "execution_count": 1007,
   "metadata": {
    "scrolled": true
   },
   "outputs": [
    {
     "data": {
      "text/plain": [
       "43306"
      ]
     },
     "execution_count": 1007,
     "metadata": {},
     "output_type": "execute_result"
    }
   ],
   "source": [
    "len(parameter_list)"
   ]
  },
  {
   "cell_type": "markdown",
   "metadata": {},
   "source": [
    "check also no. of iterations becomes less when we scale the data compared to the non scaled data for same theta values"
   ]
  },
  {
   "cell_type": "code",
   "execution_count": 23,
   "metadata": {},
   "outputs": [],
   "source": [
    "from sklearn.linear_model import LogisticRegression"
   ]
  },
  {
   "cell_type": "code",
   "execution_count": 24,
   "metadata": {},
   "outputs": [],
   "source": [
    "logistic = LogisticRegression()"
   ]
  },
  {
   "cell_type": "code",
   "execution_count": 25,
   "metadata": {},
   "outputs": [
    {
     "name": "stderr",
     "output_type": "stream",
     "text": [
      "C:\\Users\\Shivam\\AppData\\Local\\Continuum\\anaconda3\\lib\\site-packages\\sklearn\\linear_model\\logistic.py:432: FutureWarning: Default solver will be changed to 'lbfgs' in 0.22. Specify a solver to silence this warning.\n",
      "  FutureWarning)\n"
     ]
    },
    {
     "data": {
      "text/plain": [
       "LogisticRegression(C=1.0, class_weight=None, dual=False, fit_intercept=True,\n",
       "                   intercept_scaling=1, l1_ratio=None, max_iter=100,\n",
       "                   multi_class='warn', n_jobs=None, penalty='l2',\n",
       "                   random_state=None, solver='warn', tol=0.0001, verbose=0,\n",
       "                   warm_start=False)"
      ]
     },
     "execution_count": 25,
     "metadata": {},
     "output_type": "execute_result"
    }
   ],
   "source": [
    "logistic.fit(x['radius_mean'].values.reshape(-1,1),y)"
   ]
  },
  {
   "cell_type": "code",
   "execution_count": 1196,
   "metadata": {
    "scrolled": true
   },
   "outputs": [],
   "source": [
    "pred_ideal = logistic.predict(x['radius_mean'].values.reshape(-1,1))"
   ]
  },
  {
   "cell_type": "code",
   "execution_count": 26,
   "metadata": {},
   "outputs": [
    {
     "data": {
      "text/plain": [
       "(array([-0.6308762]), array([[3.3192202]]))"
      ]
     },
     "execution_count": 26,
     "metadata": {},
     "output_type": "execute_result"
    }
   ],
   "source": [
    "logistic.intercept_,logistic.coef_"
   ]
  },
  {
   "cell_type": "code",
   "execution_count": 54,
   "metadata": {},
   "outputs": [],
   "source": [
    "from sklearn.metrics import roc_curve,auc\n",
    "from sklearn.metrics import confusion_matrix,classification_report"
   ]
  },
  {
   "cell_type": "code",
   "execution_count": 47,
   "metadata": {},
   "outputs": [
    {
     "data": {
      "text/plain": [
       "(array([0.        , 0.12885154, 1.        ]),\n",
       " array([0.       , 0.8490566, 1.       ]),\n",
       " array([2., 1., 0.]))"
      ]
     },
     "execution_count": 47,
     "metadata": {},
     "output_type": "execute_result"
    }
   ],
   "source": [
    "fp_rate,tp_rate,thresholds = roc_curve(y,pred)\n",
    "fp_rate,tp_rate,thresholds"
   ]
  },
  {
   "cell_type": "code",
   "execution_count": 46,
   "metadata": {},
   "outputs": [
    {
     "data": {
      "text/plain": [
       "0.8601025315786692"
      ]
     },
     "execution_count": 46,
     "metadata": {},
     "output_type": "execute_result"
    }
   ],
   "source": [
    "roc_auc = auc(fp_rate,tp_rate)\n",
    "roc_auc"
   ]
  },
  {
   "cell_type": "code",
   "execution_count": 49,
   "metadata": {},
   "outputs": [
    {
     "data": {
      "text/plain": [
       "array([[311,  46],\n",
       "       [ 32, 180]], dtype=int64)"
      ]
     },
     "execution_count": 49,
     "metadata": {},
     "output_type": "execute_result"
    }
   ],
   "source": [
    "confusion_matrix(y,pred)"
   ]
  },
  {
   "cell_type": "code",
   "execution_count": 56,
   "metadata": {},
   "outputs": [
    {
     "name": "stdout",
     "output_type": "stream",
     "text": [
      "              precision    recall  f1-score   support\n",
      "\n",
      "           0       0.91      0.87      0.89       357\n",
      "           1       0.80      0.85      0.82       212\n",
      "\n",
      "    accuracy                           0.86       569\n",
      "   macro avg       0.85      0.86      0.86       569\n",
      "weighted avg       0.87      0.86      0.86       569\n",
      "\n"
     ]
    }
   ],
   "source": [
    "print(classification_report(y,pred))"
   ]
  },
  {
   "cell_type": "code",
   "execution_count": 61,
   "metadata": {},
   "outputs": [
    {
     "data": {
      "text/plain": [
       "13.700000000000001"
      ]
     },
     "execution_count": 61,
     "metadata": {},
     "output_type": "execute_result"
    }
   ],
   "source": [
    "missclassification_rate = round(np.mean(pred!=y),3)*100\n",
    "missclassification_rate"
   ]
  },
  {
   "cell_type": "code",
   "execution_count": null,
   "metadata": {},
   "outputs": [],
   "source": []
  },
  {
   "cell_type": "code",
   "execution_count": null,
   "metadata": {},
   "outputs": [],
   "source": []
  },
  {
   "cell_type": "code",
   "execution_count": 50,
   "metadata": {},
   "outputs": [
    {
     "data": {
      "text/plain": [
       "0.8629173989455184"
      ]
     },
     "execution_count": 50,
     "metadata": {},
     "output_type": "execute_result"
    }
   ],
   "source": [
    "np.size(a = np.where(pred==y))/m    ## Accuracy = (TP+TN)/(TP+FP+FP+FN)"
   ]
  },
  {
   "cell_type": "code",
   "execution_count": 1168,
   "metadata": {},
   "outputs": [],
   "source": [
    "a = np.where(pred==1)"
   ]
  },
  {
   "cell_type": "code",
   "execution_count": 1169,
   "metadata": {},
   "outputs": [],
   "source": [
    "b = np.where(y==1)"
   ]
  },
  {
   "cell_type": "code",
   "execution_count": 1170,
   "metadata": {},
   "outputs": [
    {
     "data": {
      "text/plain": [
       "1"
      ]
     },
     "execution_count": 1170,
     "metadata": {},
     "output_type": "execute_result"
    }
   ],
   "source": [
    "np.size([a[0][i]!=b[0][j] for i in range(len(a)) for j in range(len(b))])"
   ]
  },
  {
   "cell_type": "code",
   "execution_count": 1126,
   "metadata": {},
   "outputs": [
    {
     "data": {
      "text/plain": [
       "0.34513274336283184"
      ]
     },
     "execution_count": 1126,
     "metadata": {},
     "output_type": "execute_result"
    }
   ],
   "source": [
    "np.size(np.where(a!=b))/(np.size(np.where(pred==1)))    ### may be it is false positive ratio"
   ]
  },
  {
   "cell_type": "code",
   "execution_count": null,
   "metadata": {},
   "outputs": [],
   "source": []
  }
 ],
 "metadata": {
  "kernelspec": {
   "display_name": "Python 3",
   "language": "python",
   "name": "python3"
  },
  "language_info": {
   "codemirror_mode": {
    "name": "ipython",
    "version": 3
   },
   "file_extension": ".py",
   "mimetype": "text/x-python",
   "name": "python",
   "nbconvert_exporter": "python",
   "pygments_lexer": "ipython3",
   "version": "3.7.3"
  }
 },
 "nbformat": 4,
 "nbformat_minor": 2
}
