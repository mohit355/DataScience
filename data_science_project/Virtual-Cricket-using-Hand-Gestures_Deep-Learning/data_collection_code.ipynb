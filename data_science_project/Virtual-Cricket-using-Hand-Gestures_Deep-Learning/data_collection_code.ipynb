{
 "cells": [
  {
   "cell_type": "code",
   "execution_count": 1,
   "metadata": {},
   "outputs": [],
   "source": [
    "import cv2\n",
    "import numpy as np\n",
    "import os"
   ]
  },
  {
   "cell_type": "code",
   "execution_count": 2,
   "metadata": {},
   "outputs": [],
   "source": [
    "# Create the directory structure\n",
    "if not os.path.exists(\"data\"):\n",
    "    os.makedirs(\"data\")\n",
    "    os.makedirs(\"data/train\")\n",
    "    os.makedirs(\"data/validation\")\n",
    "\n",
    "    os.makedirs(\"data/train/0\")\n",
    "    os.makedirs(\"data/train/1\")\n",
    "    os.makedirs(\"data/train/2\")\n",
    "    os.makedirs(\"data/train/3\")\n",
    "    os.makedirs(\"data/train/4\")\n",
    "    os.makedirs(\"data/train/5\")\n",
    "    os.makedirs(\"data/train/6\")\n",
    "\n",
    "    os.makedirs(\"data/validation/0\")\n",
    "    os.makedirs(\"data/validation/1\")\n",
    "    os.makedirs(\"data/validation/2\")\n",
    "    os.makedirs(\"data/validation/3\")\n",
    "    os.makedirs(\"data/validation/4\")\n",
    "    os.makedirs(\"data/validation/5\")\n",
    "    os.makedirs(\"data/validation/6\")"
   ]
  },
  {
   "cell_type": "code",
   "execution_count": 5,
   "metadata": {},
   "outputs": [],
   "source": [
    "# enter input as train and validation \n",
    "mode = 'validation'\n",
    "directory = 'data/'+mode+'/'"
   ]
  },
  {
   "cell_type": "code",
   "execution_count": 6,
   "metadata": {},
   "outputs": [],
   "source": [
    "cap = cv2.VideoCapture(0)\n",
    "while True:\n",
    "    _, frame = cap.read()\n",
    "    # Mirror image\n",
    "    frame = cv2.flip(frame, 1)\n",
    "    \n",
    "    # Count the present images in directory \n",
    "    count = {\n",
    "             'zero': len(os.listdir(directory+\"/0\")),\n",
    "             'one': len(os.listdir(directory+\"/1\")),\n",
    "             'two': len(os.listdir(directory+\"/2\")),\n",
    "             'three': len(os.listdir(directory+\"/3\")),\n",
    "             'four': len(os.listdir(directory+\"/4\")),\n",
    "             'five': len(os.listdir(directory+\"/5\")),\n",
    "             'six': len(os.listdir(directory+\"/6\"))}\n",
    "             \n",
    "    \n",
    "    # Printing the total count of images in each set to the screen with color formats and thickness of frame\n",
    "    cv2.putText(frame, \"MODE : \"+mode, (10, 50), cv2.FONT_HERSHEY_PLAIN, 1, (0,255,255), 1)\n",
    "    cv2.putText(frame, \"IMAGE COUNT\", (10, 100), cv2.FONT_HERSHEY_PLAIN, 1, (0,255,255), 1)\n",
    "    \n",
    "    cv2.putText(frame, \"ZERO : \"+str(count['zero']), (10, 120), cv2.FONT_HERSHEY_PLAIN, 1, (0,255,255), 1)\n",
    "    cv2.putText(frame, \"ONE : \"+str(count['one']), (10, 140), cv2.FONT_HERSHEY_PLAIN, 1, (0,255,255), 1)\n",
    "    cv2.putText(frame, \"TWO : \"+str(count['two']), (10, 160), cv2.FONT_HERSHEY_PLAIN, 1, (0,255,255), 1)\n",
    "    cv2.putText(frame, \"THREE : \"+str(count['three']), (10, 180), cv2.FONT_HERSHEY_PLAIN, 1, (0,255,255), 1)\n",
    "    cv2.putText(frame, \"FOUR : \"+str(count['four']), (10, 200), cv2.FONT_HERSHEY_PLAIN, 1, (0,255,255), 1)\n",
    "    cv2.putText(frame, \"FIVE : \"+str(count['five']), (10, 220), cv2.FONT_HERSHEY_PLAIN, 1, (0,255,255), 1)\n",
    "    cv2.putText(frame, \"SIX : \"+str(count['six']), (10, 240), cv2.FONT_HERSHEY_PLAIN, 1, (0,255,255), 1)\n",
    "    \n",
    "    # Coordinates of the ROI\n",
    "    x1 = int(0.5*frame.shape[1])\n",
    "    y1 = 10\n",
    "    x2 = frame.shape[1]-10\n",
    "    y2 = int(0.5*frame.shape[1])\n",
    "    #print(frame.shape)\n",
    "   \n",
    "    # Drawing the ROI\n",
    "    cv2.rectangle(frame, (x1, y1), (x2, y2), (255,0,0) ,1)\n",
    "    \n",
    "    # Extracting the ROI\n",
    "    roi = frame[y1:y2, x1:x2]\n",
    "    #roi = cv2.resize(roi, (768,768)) \n",
    "    \n",
    "    cv2.imshow(\"Frame\", frame)\n",
    "    roi = cv2.cvtColor(roi, cv2.COLOR_BGR2GRAY)\n",
    "    #_, roi = cv2.threshold(roi, 120, 255, cv2.THRESH_BINARY)\n",
    "    cv2.imshow(\"ROI\", roi)\n",
    "    \n",
    "    interrupt = cv2.waitKey(10)\n",
    "    if interrupt & 0xFF == 27: # esc key\n",
    "        break\n",
    "\n",
    "        \n",
    "    if interrupt & 0xFF == ord('0'):\n",
    "        cv2.imwrite(directory+'0/'+str(count['zero']+500)+'.jpg', roi)    \n",
    "    if interrupt & 0xFF == ord('1'):\n",
    "        cv2.imwrite(directory+'1/'+str(count['one']+500)+'.jpg', roi)\n",
    "    if interrupt & 0xFF == ord('2'):\n",
    "        cv2.imwrite(directory+'2/'+str(count['two']+500)+'.jpg', roi)\n",
    "    if interrupt & 0xFF == ord('3'):\n",
    "        cv2.imwrite(directory+'3/'+str(count['three']+500)+'.jpg', roi)\n",
    "    if interrupt & 0xFF == ord('4'):\n",
    "        cv2.imwrite(directory+'4/'+str(count['four']+500)+'.jpg', roi)\n",
    "    if interrupt & 0xFF == ord('5'):\n",
    "        cv2.imwrite(directory+'5/'+str(count['five']+500)+'.jpg', roi)\n",
    "    if interrupt & 0xFF == ord('6'):\n",
    "        cv2.imwrite(directory+'6/'+str(count['six']+500)+'.jpg', roi)\n",
    "    \n",
    "cap.release()\n",
    "cv2.destroyAllWindows()"
   ]
  },
  {
   "cell_type": "code",
   "execution_count": null,
   "metadata": {},
   "outputs": [],
   "source": []
  },
  {
   "cell_type": "code",
   "execution_count": null,
   "metadata": {},
   "outputs": [],
   "source": []
  }
 ],
 "metadata": {
  "kernelspec": {
   "display_name": "Python 3",
   "language": "python",
   "name": "python3"
  },
  "language_info": {
   "codemirror_mode": {
    "name": "ipython",
    "version": 3
   },
   "file_extension": ".py",
   "mimetype": "text/x-python",
   "name": "python",
   "nbconvert_exporter": "python",
   "pygments_lexer": "ipython3",
   "version": "3.7.3"
  }
 },
 "nbformat": 4,
 "nbformat_minor": 2
}
